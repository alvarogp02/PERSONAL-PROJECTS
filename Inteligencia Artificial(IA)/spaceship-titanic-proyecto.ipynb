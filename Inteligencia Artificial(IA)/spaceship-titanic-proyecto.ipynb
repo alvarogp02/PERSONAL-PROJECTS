{
 "cells": [
  {
   "cell_type": "markdown",
   "id": "bfa29553",
   "metadata": {
    "papermill": {
     "duration": 0.005735,
     "end_time": "2025-08-15T13:23:39.232031",
     "exception": false,
     "start_time": "2025-08-15T13:23:39.226296",
     "status": "completed"
    },
    "tags": []
   },
   "source": [
    "# Comenzamos importando todo"
   ]
  },
  {
   "cell_type": "code",
   "execution_count": 1,
   "id": "a2dcd43e",
   "metadata": {
    "_cell_guid": "b1076dfc-b9ad-4769-8c92-a6c4dae69d19",
    "_uuid": "8f2839f25d086af736a60e9eeb907d3b93b6e0e5",
    "execution": {
     "iopub.execute_input": "2025-08-15T13:23:39.243428Z",
     "iopub.status.busy": "2025-08-15T13:23:39.243125Z",
     "iopub.status.idle": "2025-08-15T13:24:03.829248Z",
     "shell.execute_reply": "2025-08-15T13:24:03.828216Z"
    },
    "papermill": {
     "duration": 24.59387,
     "end_time": "2025-08-15T13:24:03.831139",
     "exception": false,
     "start_time": "2025-08-15T13:23:39.237269",
     "status": "completed"
    },
    "tags": []
   },
   "outputs": [
    {
     "name": "stderr",
     "output_type": "stream",
     "text": [
      "2025-08-15 13:23:41.529297: E external/local_xla/xla/stream_executor/cuda/cuda_fft.cc:477] Unable to register cuFFT factory: Attempting to register factory for plugin cuFFT when one has already been registered\n",
      "WARNING: All log messages before absl::InitializeLog() is called are written to STDERR\n",
      "E0000 00:00:1755264221.802818      13 cuda_dnn.cc:8310] Unable to register cuDNN factory: Attempting to register factory for plugin cuDNN when one has already been registered\n",
      "E0000 00:00:1755264221.886648      13 cuda_blas.cc:1418] Unable to register cuBLAS factory: Attempting to register factory for plugin cuBLAS when one has already been registered\n"
     ]
    },
    {
     "data": {
      "text/html": [
       "\n",
       "<p style=\"margin:0px;\">🌲 Try <a href=\"https://ydf.readthedocs.io/en/latest/\" target=\"_blank\">YDF</a>, the successor of\n",
       "    <a href=\"https://www.tensorflow.org/decision_forests\" target=\"_blank\">TensorFlow\n",
       "        Decision Forests</a> using the same algorithms but with more features and faster\n",
       "    training!\n",
       "</p>\n",
       "<div style=\"display: flex; flex-wrap: wrap; margin:5px;max-width: 880px;\">\n",
       "    <div style=\"flex: 1; border-radius: 10px; background-color: F0F0F0; padding: 5px;\">\n",
       "        <p\n",
       "            style=\"font-weight: bold; margin:0px;text-align: center;border-bottom: 1px solid #C0C0C0;margin-bottom: 4px;\">\n",
       "            Old code</p>\n",
       "        <pre style=\"overflow-wrap: anywhere; overflow: auto; margin:0px;font-size: 9pt;\">\n",
       "import tensorflow_decision_forests as tfdf\n",
       "\n",
       "tf_ds = tfdf.keras.pd_dataframe_to_tf_dataset(ds, label=\"l\")\n",
       "model = tfdf.keras.RandomForestModel(label=\"l\")\n",
       "model.fit(tf_ds)\n",
       "</pre>\n",
       "    </div>\n",
       "    <div style=\"width: 5px;\"></div>\n",
       "    <div style=\"flex: 1; border-radius: 10px; background-color: F0F0F0; padding: 5px;\">\n",
       "        <p\n",
       "            style=\"font-weight: bold; margin:0px;text-align: center;border-bottom: 1px solid #C0C0C0;margin-bottom: 4px;\">\n",
       "            New code</p>\n",
       "        <pre style=\"overflow-wrap: anywhere; overflow: auto; margin:0px;font-size: 9pt;\">\n",
       "import ydf\n",
       "\n",
       "model = ydf.RandomForestLearner(label=\"l\").train(ds)\n",
       "</pre>\n",
       "    </div>\n",
       "</div>\n",
       "<p style=\"margin:0px;font-size: 9pt;\">(Learn more in the <a\n",
       "        href=\"https://ydf.readthedocs.io/en/latest/tutorial/migrating_to_ydf/\" target=\"_blank\">migration\n",
       "        guide</a>)</p>\n"
      ],
      "text/plain": [
       "<IPython.core.display.HTML object>"
      ]
     },
     "metadata": {},
     "output_type": "display_data"
    }
   ],
   "source": [
    "import tensorflow as tf\n",
    "import tensorflow_decision_forests as tfdf\n",
    "import pandas as pd\n",
    "import numpy as np\n",
    "import seaborn as sns\n",
    "import matplotlib.pyplot as plt\n"
   ]
  },
  {
   "cell_type": "code",
   "execution_count": 2,
   "id": "3e748ecc",
   "metadata": {
    "execution": {
     "iopub.execute_input": "2025-08-15T13:24:03.843363Z",
     "iopub.status.busy": "2025-08-15T13:24:03.842779Z",
     "iopub.status.idle": "2025-08-15T13:24:03.931690Z",
     "shell.execute_reply": "2025-08-15T13:24:03.930693Z"
    },
    "papermill": {
     "duration": 0.096801,
     "end_time": "2025-08-15T13:24:03.933479",
     "exception": false,
     "start_time": "2025-08-15T13:24:03.836678",
     "status": "completed"
    },
    "tags": []
   },
   "outputs": [
    {
     "data": {
      "text/html": [
       "<div>\n",
       "<style scoped>\n",
       "    .dataframe tbody tr th:only-of-type {\n",
       "        vertical-align: middle;\n",
       "    }\n",
       "\n",
       "    .dataframe tbody tr th {\n",
       "        vertical-align: top;\n",
       "    }\n",
       "\n",
       "    .dataframe thead th {\n",
       "        text-align: right;\n",
       "    }\n",
       "</style>\n",
       "<table border=\"1\" class=\"dataframe\">\n",
       "  <thead>\n",
       "    <tr style=\"text-align: right;\">\n",
       "      <th></th>\n",
       "      <th>PassengerId</th>\n",
       "      <th>HomePlanet</th>\n",
       "      <th>CryoSleep</th>\n",
       "      <th>Cabin</th>\n",
       "      <th>Destination</th>\n",
       "      <th>Age</th>\n",
       "      <th>VIP</th>\n",
       "      <th>RoomService</th>\n",
       "      <th>FoodCourt</th>\n",
       "      <th>ShoppingMall</th>\n",
       "      <th>Spa</th>\n",
       "      <th>VRDeck</th>\n",
       "      <th>Name</th>\n",
       "      <th>Transported</th>\n",
       "    </tr>\n",
       "  </thead>\n",
       "  <tbody>\n",
       "    <tr>\n",
       "      <th>0</th>\n",
       "      <td>0001_01</td>\n",
       "      <td>Europa</td>\n",
       "      <td>False</td>\n",
       "      <td>B/0/P</td>\n",
       "      <td>TRAPPIST-1e</td>\n",
       "      <td>39.0</td>\n",
       "      <td>False</td>\n",
       "      <td>0.0</td>\n",
       "      <td>0.0</td>\n",
       "      <td>0.0</td>\n",
       "      <td>0.0</td>\n",
       "      <td>0.0</td>\n",
       "      <td>Maham Ofracculy</td>\n",
       "      <td>False</td>\n",
       "    </tr>\n",
       "    <tr>\n",
       "      <th>1</th>\n",
       "      <td>0002_01</td>\n",
       "      <td>Earth</td>\n",
       "      <td>False</td>\n",
       "      <td>F/0/S</td>\n",
       "      <td>TRAPPIST-1e</td>\n",
       "      <td>24.0</td>\n",
       "      <td>False</td>\n",
       "      <td>109.0</td>\n",
       "      <td>9.0</td>\n",
       "      <td>25.0</td>\n",
       "      <td>549.0</td>\n",
       "      <td>44.0</td>\n",
       "      <td>Juanna Vines</td>\n",
       "      <td>True</td>\n",
       "    </tr>\n",
       "  </tbody>\n",
       "</table>\n",
       "</div>"
      ],
      "text/plain": [
       "  PassengerId HomePlanet CryoSleep  Cabin  Destination   Age    VIP  \\\n",
       "0     0001_01     Europa     False  B/0/P  TRAPPIST-1e  39.0  False   \n",
       "1     0002_01      Earth     False  F/0/S  TRAPPIST-1e  24.0  False   \n",
       "\n",
       "   RoomService  FoodCourt  ShoppingMall    Spa  VRDeck             Name  \\\n",
       "0          0.0        0.0           0.0    0.0     0.0  Maham Ofracculy   \n",
       "1        109.0        9.0          25.0  549.0    44.0     Juanna Vines   \n",
       "\n",
       "   Transported  \n",
       "0        False  \n",
       "1         True  "
      ]
     },
     "execution_count": 2,
     "metadata": {},
     "output_type": "execute_result"
    }
   ],
   "source": [
    "dataset = pd.read_csv('/kaggle/input/spaceship-titanic/train.csv')\n",
    "dataset.head(2)"
   ]
  },
  {
   "cell_type": "markdown",
   "id": "ebb8c033",
   "metadata": {
    "papermill": {
     "duration": 0.005096,
     "end_time": "2025-08-15T13:24:03.944392",
     "exception": false,
     "start_time": "2025-08-15T13:24:03.939296",
     "status": "completed"
    },
    "tags": []
   },
   "source": [
    "# Comenzamos eda"
   ]
  },
  {
   "cell_type": "code",
   "execution_count": 3,
   "id": "4637bab8",
   "metadata": {
    "execution": {
     "iopub.execute_input": "2025-08-15T13:24:03.956292Z",
     "iopub.status.busy": "2025-08-15T13:24:03.955972Z",
     "iopub.status.idle": "2025-08-15T13:24:03.986473Z",
     "shell.execute_reply": "2025-08-15T13:24:03.985497Z"
    },
    "papermill": {
     "duration": 0.038305,
     "end_time": "2025-08-15T13:24:03.988045",
     "exception": false,
     "start_time": "2025-08-15T13:24:03.949740",
     "status": "completed"
    },
    "tags": []
   },
   "outputs": [
    {
     "data": {
      "text/html": [
       "<div>\n",
       "<style scoped>\n",
       "    .dataframe tbody tr th:only-of-type {\n",
       "        vertical-align: middle;\n",
       "    }\n",
       "\n",
       "    .dataframe tbody tr th {\n",
       "        vertical-align: top;\n",
       "    }\n",
       "\n",
       "    .dataframe thead th {\n",
       "        text-align: right;\n",
       "    }\n",
       "</style>\n",
       "<table border=\"1\" class=\"dataframe\">\n",
       "  <thead>\n",
       "    <tr style=\"text-align: right;\">\n",
       "      <th></th>\n",
       "      <th>Age</th>\n",
       "      <th>RoomService</th>\n",
       "      <th>FoodCourt</th>\n",
       "      <th>ShoppingMall</th>\n",
       "      <th>Spa</th>\n",
       "      <th>VRDeck</th>\n",
       "    </tr>\n",
       "  </thead>\n",
       "  <tbody>\n",
       "    <tr>\n",
       "      <th>count</th>\n",
       "      <td>8514.000000</td>\n",
       "      <td>8512.000000</td>\n",
       "      <td>8510.000000</td>\n",
       "      <td>8485.000000</td>\n",
       "      <td>8510.000000</td>\n",
       "      <td>8505.000000</td>\n",
       "    </tr>\n",
       "    <tr>\n",
       "      <th>mean</th>\n",
       "      <td>28.827930</td>\n",
       "      <td>224.687617</td>\n",
       "      <td>458.077203</td>\n",
       "      <td>173.729169</td>\n",
       "      <td>311.138778</td>\n",
       "      <td>304.854791</td>\n",
       "    </tr>\n",
       "    <tr>\n",
       "      <th>std</th>\n",
       "      <td>14.489021</td>\n",
       "      <td>666.717663</td>\n",
       "      <td>1611.489240</td>\n",
       "      <td>604.696458</td>\n",
       "      <td>1136.705535</td>\n",
       "      <td>1145.717189</td>\n",
       "    </tr>\n",
       "    <tr>\n",
       "      <th>min</th>\n",
       "      <td>0.000000</td>\n",
       "      <td>0.000000</td>\n",
       "      <td>0.000000</td>\n",
       "      <td>0.000000</td>\n",
       "      <td>0.000000</td>\n",
       "      <td>0.000000</td>\n",
       "    </tr>\n",
       "    <tr>\n",
       "      <th>25%</th>\n",
       "      <td>19.000000</td>\n",
       "      <td>0.000000</td>\n",
       "      <td>0.000000</td>\n",
       "      <td>0.000000</td>\n",
       "      <td>0.000000</td>\n",
       "      <td>0.000000</td>\n",
       "    </tr>\n",
       "    <tr>\n",
       "      <th>50%</th>\n",
       "      <td>27.000000</td>\n",
       "      <td>0.000000</td>\n",
       "      <td>0.000000</td>\n",
       "      <td>0.000000</td>\n",
       "      <td>0.000000</td>\n",
       "      <td>0.000000</td>\n",
       "    </tr>\n",
       "    <tr>\n",
       "      <th>75%</th>\n",
       "      <td>38.000000</td>\n",
       "      <td>47.000000</td>\n",
       "      <td>76.000000</td>\n",
       "      <td>27.000000</td>\n",
       "      <td>59.000000</td>\n",
       "      <td>46.000000</td>\n",
       "    </tr>\n",
       "    <tr>\n",
       "      <th>max</th>\n",
       "      <td>79.000000</td>\n",
       "      <td>14327.000000</td>\n",
       "      <td>29813.000000</td>\n",
       "      <td>23492.000000</td>\n",
       "      <td>22408.000000</td>\n",
       "      <td>24133.000000</td>\n",
       "    </tr>\n",
       "  </tbody>\n",
       "</table>\n",
       "</div>"
      ],
      "text/plain": [
       "               Age   RoomService     FoodCourt  ShoppingMall           Spa  \\\n",
       "count  8514.000000   8512.000000   8510.000000   8485.000000   8510.000000   \n",
       "mean     28.827930    224.687617    458.077203    173.729169    311.138778   \n",
       "std      14.489021    666.717663   1611.489240    604.696458   1136.705535   \n",
       "min       0.000000      0.000000      0.000000      0.000000      0.000000   \n",
       "25%      19.000000      0.000000      0.000000      0.000000      0.000000   \n",
       "50%      27.000000      0.000000      0.000000      0.000000      0.000000   \n",
       "75%      38.000000     47.000000     76.000000     27.000000     59.000000   \n",
       "max      79.000000  14327.000000  29813.000000  23492.000000  22408.000000   \n",
       "\n",
       "             VRDeck  \n",
       "count   8505.000000  \n",
       "mean     304.854791  \n",
       "std     1145.717189  \n",
       "min        0.000000  \n",
       "25%        0.000000  \n",
       "50%        0.000000  \n",
       "75%       46.000000  \n",
       "max    24133.000000  "
      ]
     },
     "execution_count": 3,
     "metadata": {},
     "output_type": "execute_result"
    }
   ],
   "source": [
    "dataset.describe()"
   ]
  },
  {
   "cell_type": "code",
   "execution_count": 4,
   "id": "aaa2823f",
   "metadata": {
    "execution": {
     "iopub.execute_input": "2025-08-15T13:24:04.000584Z",
     "iopub.status.busy": "2025-08-15T13:24:04.000248Z",
     "iopub.status.idle": "2025-08-15T13:24:04.033020Z",
     "shell.execute_reply": "2025-08-15T13:24:04.031934Z"
    },
    "papermill": {
     "duration": 0.041036,
     "end_time": "2025-08-15T13:24:04.034730",
     "exception": false,
     "start_time": "2025-08-15T13:24:03.993694",
     "status": "completed"
    },
    "tags": []
   },
   "outputs": [
    {
     "name": "stdout",
     "output_type": "stream",
     "text": [
      "<class 'pandas.core.frame.DataFrame'>\n",
      "RangeIndex: 8693 entries, 0 to 8692\n",
      "Data columns (total 14 columns):\n",
      " #   Column        Non-Null Count  Dtype  \n",
      "---  ------        --------------  -----  \n",
      " 0   PassengerId   8693 non-null   object \n",
      " 1   HomePlanet    8492 non-null   object \n",
      " 2   CryoSleep     8476 non-null   object \n",
      " 3   Cabin         8494 non-null   object \n",
      " 4   Destination   8511 non-null   object \n",
      " 5   Age           8514 non-null   float64\n",
      " 6   VIP           8490 non-null   object \n",
      " 7   RoomService   8512 non-null   float64\n",
      " 8   FoodCourt     8510 non-null   float64\n",
      " 9   ShoppingMall  8485 non-null   float64\n",
      " 10  Spa           8510 non-null   float64\n",
      " 11  VRDeck        8505 non-null   float64\n",
      " 12  Name          8493 non-null   object \n",
      " 13  Transported   8693 non-null   bool   \n",
      "dtypes: bool(1), float64(6), object(7)\n",
      "memory usage: 891.5+ KB\n"
     ]
    }
   ],
   "source": [
    "dataset.info()\n",
    "dataset=dataset.drop(['PassengerId','Name'],axis=1)\n"
   ]
  },
  {
   "cell_type": "code",
   "execution_count": 5,
   "id": "047b39ff",
   "metadata": {
    "execution": {
     "iopub.execute_input": "2025-08-15T13:24:04.047814Z",
     "iopub.status.busy": "2025-08-15T13:24:04.047500Z",
     "iopub.status.idle": "2025-08-15T13:24:04.062932Z",
     "shell.execute_reply": "2025-08-15T13:24:04.061858Z"
    },
    "papermill": {
     "duration": 0.023427,
     "end_time": "2025-08-15T13:24:04.064592",
     "exception": false,
     "start_time": "2025-08-15T13:24:04.041165",
     "status": "completed"
    },
    "tags": []
   },
   "outputs": [
    {
     "data": {
      "text/plain": [
       "15"
      ]
     },
     "execution_count": 5,
     "metadata": {},
     "output_type": "execute_result"
    }
   ],
   "source": [
    "dataset.duplicated().sum()"
   ]
  },
  {
   "cell_type": "code",
   "execution_count": 6,
   "id": "5d40618d",
   "metadata": {
    "execution": {
     "iopub.execute_input": "2025-08-15T13:24:04.077413Z",
     "iopub.status.busy": "2025-08-15T13:24:04.077107Z",
     "iopub.status.idle": "2025-08-15T13:24:04.088383Z",
     "shell.execute_reply": "2025-08-15T13:24:04.087390Z"
    },
    "papermill": {
     "duration": 0.019542,
     "end_time": "2025-08-15T13:24:04.089960",
     "exception": false,
     "start_time": "2025-08-15T13:24:04.070418",
     "status": "completed"
    },
    "tags": []
   },
   "outputs": [
    {
     "data": {
      "text/plain": [
       "CryoSleep       217\n",
       "ShoppingMall    208\n",
       "VIP             203\n",
       "HomePlanet      201\n",
       "Cabin           199\n",
       "VRDeck          188\n",
       "FoodCourt       183\n",
       "Spa             183\n",
       "Destination     182\n",
       "RoomService     181\n",
       "Age             179\n",
       "Transported       0\n",
       "dtype: int64"
      ]
     },
     "execution_count": 6,
     "metadata": {},
     "output_type": "execute_result"
    }
   ],
   "source": [
    "dataset.isnull().sum().sort_values(ascending=False)"
   ]
  },
  {
   "cell_type": "code",
   "execution_count": 7,
   "id": "3167d40a",
   "metadata": {
    "execution": {
     "iopub.execute_input": "2025-08-15T13:24:04.103536Z",
     "iopub.status.busy": "2025-08-15T13:24:04.103228Z",
     "iopub.status.idle": "2025-08-15T13:24:04.122408Z",
     "shell.execute_reply": "2025-08-15T13:24:04.121413Z"
    },
    "papermill": {
     "duration": 0.028446,
     "end_time": "2025-08-15T13:24:04.124313",
     "exception": false,
     "start_time": "2025-08-15T13:24:04.095867",
     "status": "completed"
    },
    "tags": []
   },
   "outputs": [
    {
     "data": {
      "text/plain": [
       "HomePlanet      201\n",
       "Cabin           199\n",
       "Destination     182\n",
       "RoomService     181\n",
       "Age             179\n",
       "CryoSleep         0\n",
       "VIP               0\n",
       "FoodCourt         0\n",
       "ShoppingMall      0\n",
       "Spa               0\n",
       "VRDeck            0\n",
       "Transported       0\n",
       "dtype: int64"
      ]
     },
     "execution_count": 7,
     "metadata": {},
     "output_type": "execute_result"
    }
   ],
   "source": [
    "dataset[['CryoSleep','VIP','FoodCourt','ShoppingMall','Spa','VRDeck']] = dataset[['CryoSleep','VIP','FoodCourt','ShoppingMall','Spa','VRDeck']].fillna(value=0)\n",
    "dataset.isnull().sum().sort_values(ascending= False)"
   ]
  },
  {
   "cell_type": "code",
   "execution_count": 8,
   "id": "b84c5a5c",
   "metadata": {
    "execution": {
     "iopub.execute_input": "2025-08-15T13:24:04.137627Z",
     "iopub.status.busy": "2025-08-15T13:24:04.137301Z",
     "iopub.status.idle": "2025-08-15T13:24:04.144268Z",
     "shell.execute_reply": "2025-08-15T13:24:04.143274Z"
    },
    "papermill": {
     "duration": 0.015753,
     "end_time": "2025-08-15T13:24:04.146110",
     "exception": false,
     "start_time": "2025-08-15T13:24:04.130357",
     "status": "completed"
    },
    "tags": []
   },
   "outputs": [],
   "source": [
    "dataset['Transported'] =dataset['Transported'].astype(int)\n",
    "dataset['VIP'] =dataset['VIP'].astype(int)\n",
    "dataset['CryoSleep'] =dataset['CryoSleep'].astype(int)"
   ]
  },
  {
   "cell_type": "markdown",
   "id": "6f5b9b27",
   "metadata": {
    "papermill": {
     "duration": 0.006057,
     "end_time": "2025-08-15T13:24:04.158161",
     "exception": false,
     "start_time": "2025-08-15T13:24:04.152104",
     "status": "completed"
    },
    "tags": []
   },
   "source": [
    "## separaremos cabin en distintas columnas"
   ]
  },
  {
   "cell_type": "code",
   "execution_count": 9,
   "id": "406cc39f",
   "metadata": {
    "execution": {
     "iopub.execute_input": "2025-08-15T13:24:04.171185Z",
     "iopub.status.busy": "2025-08-15T13:24:04.170832Z",
     "iopub.status.idle": "2025-08-15T13:24:04.188781Z",
     "shell.execute_reply": "2025-08-15T13:24:04.187758Z"
    },
    "papermill": {
     "duration": 0.026315,
     "end_time": "2025-08-15T13:24:04.190494",
     "exception": false,
     "start_time": "2025-08-15T13:24:04.164179",
     "status": "completed"
    },
    "tags": []
   },
   "outputs": [],
   "source": [
    "dataset[[\"Deck\",\"Cabin_num\",\"Side\"]] = dataset[\"Cabin\"].str.split(\"/\",expand= True)"
   ]
  },
  {
   "cell_type": "code",
   "execution_count": 10,
   "id": "f13f4182",
   "metadata": {
    "execution": {
     "iopub.execute_input": "2025-08-15T13:24:04.204879Z",
     "iopub.status.busy": "2025-08-15T13:24:04.204590Z",
     "iopub.status.idle": "2025-08-15T13:24:04.211635Z",
     "shell.execute_reply": "2025-08-15T13:24:04.210858Z"
    },
    "papermill": {
     "duration": 0.015506,
     "end_time": "2025-08-15T13:24:04.213179",
     "exception": false,
     "start_time": "2025-08-15T13:24:04.197673",
     "status": "completed"
    },
    "tags": []
   },
   "outputs": [],
   "source": [
    "try:\n",
    "    dataset=dataset.drop(\"Cabin\",axis=1)\n",
    "except KeyError:\n",
    "    print(\"Campo no existe\")"
   ]
  },
  {
   "cell_type": "code",
   "execution_count": 11,
   "id": "55b43546",
   "metadata": {
    "execution": {
     "iopub.execute_input": "2025-08-15T13:24:04.226930Z",
     "iopub.status.busy": "2025-08-15T13:24:04.226046Z",
     "iopub.status.idle": "2025-08-15T13:24:04.241211Z",
     "shell.execute_reply": "2025-08-15T13:24:04.240227Z"
    },
    "papermill": {
     "duration": 0.02376,
     "end_time": "2025-08-15T13:24:04.242813",
     "exception": false,
     "start_time": "2025-08-15T13:24:04.219053",
     "status": "completed"
    },
    "tags": []
   },
   "outputs": [
    {
     "data": {
      "text/html": [
       "<div>\n",
       "<style scoped>\n",
       "    .dataframe tbody tr th:only-of-type {\n",
       "        vertical-align: middle;\n",
       "    }\n",
       "\n",
       "    .dataframe tbody tr th {\n",
       "        vertical-align: top;\n",
       "    }\n",
       "\n",
       "    .dataframe thead th {\n",
       "        text-align: right;\n",
       "    }\n",
       "</style>\n",
       "<table border=\"1\" class=\"dataframe\">\n",
       "  <thead>\n",
       "    <tr style=\"text-align: right;\">\n",
       "      <th></th>\n",
       "      <th>HomePlanet</th>\n",
       "      <th>CryoSleep</th>\n",
       "      <th>Destination</th>\n",
       "      <th>Age</th>\n",
       "      <th>VIP</th>\n",
       "      <th>RoomService</th>\n",
       "      <th>FoodCourt</th>\n",
       "      <th>ShoppingMall</th>\n",
       "      <th>Spa</th>\n",
       "      <th>VRDeck</th>\n",
       "      <th>Transported</th>\n",
       "      <th>Deck</th>\n",
       "      <th>Cabin_num</th>\n",
       "      <th>Side</th>\n",
       "    </tr>\n",
       "  </thead>\n",
       "  <tbody>\n",
       "    <tr>\n",
       "      <th>0</th>\n",
       "      <td>Europa</td>\n",
       "      <td>0</td>\n",
       "      <td>TRAPPIST-1e</td>\n",
       "      <td>39.0</td>\n",
       "      <td>0</td>\n",
       "      <td>0.0</td>\n",
       "      <td>0.0</td>\n",
       "      <td>0.0</td>\n",
       "      <td>0.0</td>\n",
       "      <td>0.0</td>\n",
       "      <td>0</td>\n",
       "      <td>B</td>\n",
       "      <td>0</td>\n",
       "      <td>P</td>\n",
       "    </tr>\n",
       "    <tr>\n",
       "      <th>1</th>\n",
       "      <td>Earth</td>\n",
       "      <td>0</td>\n",
       "      <td>TRAPPIST-1e</td>\n",
       "      <td>24.0</td>\n",
       "      <td>0</td>\n",
       "      <td>109.0</td>\n",
       "      <td>9.0</td>\n",
       "      <td>25.0</td>\n",
       "      <td>549.0</td>\n",
       "      <td>44.0</td>\n",
       "      <td>1</td>\n",
       "      <td>F</td>\n",
       "      <td>0</td>\n",
       "      <td>S</td>\n",
       "    </tr>\n",
       "    <tr>\n",
       "      <th>2</th>\n",
       "      <td>Europa</td>\n",
       "      <td>0</td>\n",
       "      <td>TRAPPIST-1e</td>\n",
       "      <td>58.0</td>\n",
       "      <td>1</td>\n",
       "      <td>43.0</td>\n",
       "      <td>3576.0</td>\n",
       "      <td>0.0</td>\n",
       "      <td>6715.0</td>\n",
       "      <td>49.0</td>\n",
       "      <td>0</td>\n",
       "      <td>A</td>\n",
       "      <td>0</td>\n",
       "      <td>S</td>\n",
       "    </tr>\n",
       "  </tbody>\n",
       "</table>\n",
       "</div>"
      ],
      "text/plain": [
       "  HomePlanet  CryoSleep  Destination   Age  VIP  RoomService  FoodCourt  \\\n",
       "0     Europa          0  TRAPPIST-1e  39.0    0          0.0        0.0   \n",
       "1      Earth          0  TRAPPIST-1e  24.0    0        109.0        9.0   \n",
       "2     Europa          0  TRAPPIST-1e  58.0    1         43.0     3576.0   \n",
       "\n",
       "   ShoppingMall     Spa  VRDeck  Transported Deck Cabin_num Side  \n",
       "0           0.0     0.0     0.0            0    B         0    P  \n",
       "1          25.0   549.0    44.0            1    F         0    S  \n",
       "2           0.0  6715.0    49.0            0    A         0    S  "
      ]
     },
     "execution_count": 11,
     "metadata": {},
     "output_type": "execute_result"
    }
   ],
   "source": [
    "dataset.head(3)"
   ]
  },
  {
   "cell_type": "markdown",
   "id": "f7fe7b45",
   "metadata": {
    "papermill": {
     "duration": 0.006472,
     "end_time": "2025-08-15T13:24:04.255496",
     "exception": false,
     "start_time": "2025-08-15T13:24:04.249024",
     "status": "completed"
    },
    "tags": []
   },
   "source": [
    "separamos en test y train"
   ]
  },
  {
   "cell_type": "code",
   "execution_count": 12,
   "id": "5a2f4daa",
   "metadata": {
    "execution": {
     "iopub.execute_input": "2025-08-15T13:24:04.270285Z",
     "iopub.status.busy": "2025-08-15T13:24:04.269392Z",
     "iopub.status.idle": "2025-08-15T13:24:04.277546Z",
     "shell.execute_reply": "2025-08-15T13:24:04.276672Z"
    },
    "papermill": {
     "duration": 0.017531,
     "end_time": "2025-08-15T13:24:04.279165",
     "exception": false,
     "start_time": "2025-08-15T13:24:04.261634",
     "status": "completed"
    },
    "tags": []
   },
   "outputs": [],
   "source": [
    "def split_dataset(dataset,test_ratio=0.2):\n",
    "    test_indices = np.random.rand(len(dataset)) < test_ratio\n",
    "    # devuelve dos dataset el de prueba y el de entrenamiento\n",
    "    return dataset[~test_indices],dataset[test_indices]\n",
    "\n",
    "train_ds,valid_ds = split_dataset(dataset)"
   ]
  },
  {
   "cell_type": "markdown",
   "id": "d38b94ed",
   "metadata": {
    "papermill": {
     "duration": 0.005756,
     "end_time": "2025-08-15T13:24:04.291418",
     "exception": false,
     "start_time": "2025-08-15T13:24:04.285662",
     "status": "completed"
    },
    "tags": []
   },
   "source": [
    "necesitamos convertir nuestro dataset de formato pandas a tensorflow"
   ]
  },
  {
   "cell_type": "code",
   "execution_count": 13,
   "id": "fbb7dc5a",
   "metadata": {
    "execution": {
     "iopub.execute_input": "2025-08-15T13:24:04.304558Z",
     "iopub.status.busy": "2025-08-15T13:24:04.304240Z",
     "iopub.status.idle": "2025-08-15T13:24:04.411218Z",
     "shell.execute_reply": "2025-08-15T13:24:04.409856Z"
    },
    "papermill": {
     "duration": 0.115499,
     "end_time": "2025-08-15T13:24:04.413000",
     "exception": false,
     "start_time": "2025-08-15T13:24:04.297501",
     "status": "completed"
    },
    "tags": []
   },
   "outputs": [
    {
     "name": "stderr",
     "output_type": "stream",
     "text": [
      "2025-08-15 13:24:04.322221: E external/local_xla/xla/stream_executor/cuda/cuda_driver.cc:152] failed call to cuInit: INTERNAL: CUDA error: Failed call to cuInit: UNKNOWN ERROR (303)\n"
     ]
    }
   ],
   "source": [
    "label = 'Transported'\n",
    "train_ds = tfdf.keras.pd_dataframe_to_tf_dataset(train_ds,label=label)\n",
    "valid_ds = tfdf.keras.pd_dataframe_to_tf_dataset(valid_ds,label=label)"
   ]
  },
  {
   "cell_type": "markdown",
   "id": "6e3f3917",
   "metadata": {
    "papermill": {
     "duration": 0.006027,
     "end_time": "2025-08-15T13:24:04.425288",
     "exception": false,
     "start_time": "2025-08-15T13:24:04.419261",
     "status": "completed"
    },
    "tags": []
   },
   "source": [
    "## elegimos modelo"
   ]
  },
  {
   "cell_type": "code",
   "execution_count": 14,
   "id": "ded773ce",
   "metadata": {
    "execution": {
     "iopub.execute_input": "2025-08-15T13:24:04.439547Z",
     "iopub.status.busy": "2025-08-15T13:24:04.439206Z",
     "iopub.status.idle": "2025-08-15T13:24:04.513068Z",
     "shell.execute_reply": "2025-08-15T13:24:04.512136Z"
    },
    "papermill": {
     "duration": 0.082928,
     "end_time": "2025-08-15T13:24:04.514801",
     "exception": false,
     "start_time": "2025-08-15T13:24:04.431873",
     "status": "completed"
    },
    "tags": []
   },
   "outputs": [
    {
     "name": "stdout",
     "output_type": "stream",
     "text": [
      "Use /tmp/tmpt5sy7ljk as temporary training directory\n"
     ]
    }
   ],
   "source": [
    "tfdf.keras.get_all_models()\n",
    "rf = tfdf.keras.RandomForestModel()\n",
    "rf.compile(metrics='accuracy')"
   ]
  },
  {
   "cell_type": "code",
   "execution_count": 15,
   "id": "b43fca5c",
   "metadata": {
    "execution": {
     "iopub.execute_input": "2025-08-15T13:24:04.528762Z",
     "iopub.status.busy": "2025-08-15T13:24:04.528080Z",
     "iopub.status.idle": "2025-08-15T13:24:57.653254Z",
     "shell.execute_reply": "2025-08-15T13:24:57.652311Z"
    },
    "papermill": {
     "duration": 53.133582,
     "end_time": "2025-08-15T13:24:57.654662",
     "exception": false,
     "start_time": "2025-08-15T13:24:04.521080",
     "status": "completed"
    },
    "tags": []
   },
   "outputs": [
    {
     "name": "stdout",
     "output_type": "stream",
     "text": [
      "Reading training dataset...\n",
      "Training dataset read in 0:00:04.217038. Found 6960 examples.\n",
      "Training model...\n"
     ]
    },
    {
     "name": "stderr",
     "output_type": "stream",
     "text": [
      "WARNING: All log messages before absl::InitializeLog() is called are written to STDERR\n",
      "I0000 00:00:1755264248.769136      13 kernel.cc:782] Start Yggdrasil model training\n",
      "I0000 00:00:1755264248.770255      13 kernel.cc:783] Collect training examples\n",
      "I0000 00:00:1755264248.770281      13 kernel.cc:795] Dataspec guide:\n",
      "column_guides {\n",
      "  column_name_pattern: \"^__LABEL$\"\n",
      "  type: CATEGORICAL\n",
      "  categorial {\n",
      "    min_vocab_frequency: 0\n",
      "    max_vocab_count: -1\n",
      "  }\n",
      "}\n",
      "default_column_guide {\n",
      "  categorial {\n",
      "    max_vocab_count: 2000\n",
      "  }\n",
      "  discretized_numerical {\n",
      "    maximum_num_bins: 255\n",
      "  }\n",
      "}\n",
      "ignore_columns_without_guides: false\n",
      "detect_numerical_as_discretized_numerical: false\n",
      "\n",
      "I0000 00:00:1755264248.771032      13 kernel.cc:401] Number of batches: 7\n",
      "I0000 00:00:1755264248.771070      13 kernel.cc:402] Number of examples: 6960\n",
      "I0000 00:00:1755264248.773612      13 data_spec_inference.cc:354] 1282 item(s) have been pruned (i.e. they are considered out of dictionary) for the column Cabin_num (469 item(s) left) because min_value_count=5 and max_number_of_unique_values=2000\n",
      "I0000 00:00:1755264248.775314      13 kernel.cc:802] Training dataset:\n",
      "Number of records: 6960\n",
      "Number of columns: 14\n",
      "\n",
      "Number of columns by type:\n",
      "\tNUMERICAL: 8 (57.1429%)\n",
      "\tCATEGORICAL: 6 (42.8571%)\n",
      "\n",
      "Columns:\n",
      "\n",
      "NUMERICAL: 8 (57.1429%)\n",
      "\t0: \"Age\" NUMERICAL num-nas:140 (2.01149%) mean:28.8361 min:0 max:79 sd:14.5153\n",
      "\t2: \"CryoSleep\" NUMERICAL mean:0.34727 min:0 max:1 sd:0.476102\n",
      "\t5: \"FoodCourt\" NUMERICAL mean:445.159 min:0 max:29813 sd:1586.45\n",
      "\t7: \"RoomService\" NUMERICAL num-nas:150 (2.15517%) mean:226.191 min:0 max:14327 sd:686.696\n",
      "\t8: \"ShoppingMall\" NUMERICAL mean:171.149 min:0 max:23492 sd:606.527\n",
      "\t10: \"Spa\" NUMERICAL mean:295.267 min:0 max:22408 sd:1095.65\n",
      "\t11: \"VIP\" NUMERICAL mean:0.0225575 min:0 max:1 sd:0.148488\n",
      "\t12: \"VRDeck\" NUMERICAL mean:295.763 min:0 max:24133 sd:1133.76\n",
      "\n",
      "CATEGORICAL: 6 (42.8571%)\n",
      "\t1: \"Cabin_num\" CATEGORICAL num-nas:158 (2.27011%) has-dict vocab-size:470 num-oods:2912 (42.8109%) most-frequent:\"<OOD>\" 2912 (42.8109%)\n",
      "\t3: \"Deck\" CATEGORICAL num-nas:158 (2.27011%) has-dict vocab-size:9 zero-ood-items most-frequent:\"F\" 2259 (33.2108%)\n",
      "\t4: \"Destination\" CATEGORICAL num-nas:147 (2.11207%) has-dict vocab-size:4 zero-ood-items most-frequent:\"TRAPPIST-1e\" 4745 (69.6463%)\n",
      "\t6: \"HomePlanet\" CATEGORICAL num-nas:159 (2.28448%) has-dict vocab-size:4 zero-ood-items most-frequent:\"Earth\" 3697 (54.3597%)\n",
      "\t9: \"Side\" CATEGORICAL num-nas:158 (2.27011%) has-dict vocab-size:3 zero-ood-items most-frequent:\"S\" 3415 (50.2058%)\n",
      "\t13: \"__LABEL\" CATEGORICAL integerized vocab-size:3 no-ood-item\n",
      "\n",
      "Terminology:\n",
      "\tnas: Number of non-available (i.e. missing) values.\n",
      "\tood: Out of dictionary.\n",
      "\tmanually-defined: Attribute whose type is manually defined by the user, i.e., the type was not automatically inferred.\n",
      "\ttokenized: The attribute value is obtained through tokenization.\n",
      "\thas-dict: The attribute is attached to a string dictionary e.g. a categorical attribute stored as a string.\n",
      "\tvocab-size: Number of unique values.\n",
      "\n",
      "I0000 00:00:1755264248.775480      13 kernel.cc:818] Configure learner\n",
      "I0000 00:00:1755264248.775739      13 kernel.cc:831] Training config:\n",
      "learner: \"RANDOM_FOREST\"\n",
      "features: \"^Age$\"\n",
      "features: \"^Cabin_num$\"\n",
      "features: \"^CryoSleep$\"\n",
      "features: \"^Deck$\"\n",
      "features: \"^Destination$\"\n",
      "features: \"^FoodCourt$\"\n",
      "features: \"^HomePlanet$\"\n",
      "features: \"^RoomService$\"\n",
      "features: \"^ShoppingMall$\"\n",
      "features: \"^Side$\"\n",
      "features: \"^Spa$\"\n",
      "features: \"^VIP$\"\n",
      "features: \"^VRDeck$\"\n",
      "label: \"^__LABEL$\"\n",
      "task: CLASSIFICATION\n",
      "random_seed: 123456\n",
      "metadata {\n",
      "  framework: \"TF Keras\"\n",
      "}\n",
      "pure_serving_model: false\n",
      "[yggdrasil_decision_forests.model.random_forest.proto.random_forest_config] {\n",
      "  num_trees: 300\n",
      "  decision_tree {\n",
      "    max_depth: 16\n",
      "    min_examples: 5\n",
      "    in_split_min_examples_check: true\n",
      "    keep_non_leaf_label_distribution: true\n",
      "    num_candidate_attributes: 0\n",
      "    missing_value_policy: GLOBAL_IMPUTATION\n",
      "    allow_na_conditions: false\n",
      "    categorical_set_greedy_forward {\n",
      "      sampling: 0.1\n",
      "      max_num_items: -1\n",
      "      min_item_frequency: 1\n",
      "    }\n",
      "    growing_strategy_local {\n",
      "    }\n",
      "    categorical {\n",
      "      cart {\n",
      "      }\n",
      "    }\n",
      "    axis_aligned_split {\n",
      "    }\n",
      "    internal {\n",
      "      sorting_strategy: PRESORTED\n",
      "    }\n",
      "    uplift {\n",
      "      min_examples_in_treatment: 5\n",
      "      split_score: KULLBACK_LEIBLER\n",
      "    }\n",
      "  }\n",
      "  winner_take_all_inference: true\n",
      "  compute_oob_performances: true\n",
      "  compute_oob_variable_importances: false\n",
      "  num_oob_variable_importances_permutations: 1\n",
      "  bootstrap_training_dataset: true\n",
      "  bootstrap_size_ratio: 1\n",
      "  adapt_bootstrap_size_ratio_for_maximum_training_duration: false\n",
      "  sampling_with_replacement: true\n",
      "}\n",
      "\n",
      "I0000 00:00:1755264248.776357      13 kernel.cc:834] Deployment config:\n",
      "cache_path: \"/tmp/tmpt5sy7ljk/working_cache\"\n",
      "num_threads: 4\n",
      "try_resume_training: true\n",
      "\n",
      "I0000 00:00:1755264248.776660      59 kernel.cc:895] Train model\n",
      "I0000 00:00:1755264248.777350      59 random_forest.cc:427] Training random forest on 6960 example(s) and 13 feature(s).\n",
      "I0000 00:00:1755264249.333677      66 random_forest.cc:811] Training of tree  1/300 (tree index:3) done accuracy:0.722588 logloss:9.99894\n",
      "I0000 00:00:1755264250.687274      65 random_forest.cc:811] Training of tree  11/300 (tree index:10) done accuracy:0.761112 logloss:3.41879\n",
      "I0000 00:00:1755264252.218654      66 random_forest.cc:811] Training of tree  21/300 (tree index:20) done accuracy:0.773994 logloss:1.75334\n",
      "I0000 00:00:1755264253.718511      65 random_forest.cc:811] Training of tree  31/300 (tree index:31) done accuracy:0.781897 logloss:1.26259\n",
      "I0000 00:00:1755264255.830301      64 random_forest.cc:811] Training of tree  41/300 (tree index:40) done accuracy:0.787213 logloss:1.04753\n",
      "I0000 00:00:1755264257.258521      66 random_forest.cc:811] Training of tree  51/300 (tree index:50) done accuracy:0.789224 logloss:0.902621\n",
      "I0000 00:00:1755264258.965235      66 random_forest.cc:811] Training of tree  61/300 (tree index:61) done accuracy:0.788075 logloss:0.796104\n",
      "I0000 00:00:1755264260.515638      66 random_forest.cc:811] Training of tree  71/300 (tree index:70) done accuracy:0.791523 logloss:0.742506\n",
      "I0000 00:00:1755264262.011311      64 random_forest.cc:811] Training of tree  81/300 (tree index:80) done accuracy:0.790661 logloss:0.71257\n",
      "I0000 00:00:1755264263.495878      65 random_forest.cc:811] Training of tree  91/300 (tree index:90) done accuracy:0.79181 logloss:0.683728\n",
      "I0000 00:00:1755264264.983090      64 random_forest.cc:811] Training of tree  101/300 (tree index:100) done accuracy:0.791379 logloss:0.664534\n",
      "I0000 00:00:1755264266.429420      65 random_forest.cc:811] Training of tree  111/300 (tree index:110) done accuracy:0.790948 logloss:0.644847\n",
      "I0000 00:00:1755264267.980801      64 random_forest.cc:811] Training of tree  121/300 (tree index:120) done accuracy:0.789943 logloss:0.611598\n",
      "I0000 00:00:1755264269.223060      66 random_forest.cc:811] Training of tree  131/300 (tree index:131) done accuracy:0.792241 logloss:0.60211\n",
      "I0000 00:00:1755264270.738888      65 random_forest.cc:811] Training of tree  141/300 (tree index:140) done accuracy:0.792529 logloss:0.596735\n",
      "I0000 00:00:1755264272.263468      67 random_forest.cc:811] Training of tree  151/300 (tree index:150) done accuracy:0.792241 logloss:0.592483\n",
      "I0000 00:00:1755264273.768941      66 random_forest.cc:811] Training of tree  161/300 (tree index:160) done accuracy:0.792529 logloss:0.587758\n",
      "I0000 00:00:1755264275.233373      64 random_forest.cc:811] Training of tree  171/300 (tree index:170) done accuracy:0.792098 logloss:0.587401\n",
      "I0000 00:00:1755264276.726819      66 random_forest.cc:811] Training of tree  181/300 (tree index:180) done accuracy:0.791379 logloss:0.581613\n",
      "I0000 00:00:1755264278.214096      64 random_forest.cc:811] Training of tree  191/300 (tree index:190) done accuracy:0.792672 logloss:0.581366\n",
      "I0000 00:00:1755264279.710755      66 random_forest.cc:811] Training of tree  201/300 (tree index:199) done accuracy:0.792529 logloss:0.571931\n",
      "I0000 00:00:1755264281.130141      64 random_forest.cc:811] Training of tree  211/300 (tree index:210) done accuracy:0.793822 logloss:0.571844\n",
      "I0000 00:00:1755264282.704935      65 random_forest.cc:811] Training of tree  221/300 (tree index:220) done accuracy:0.793966 logloss:0.571734\n",
      "I0000 00:00:1755264284.106615      67 random_forest.cc:811] Training of tree  231/300 (tree index:229) done accuracy:0.792529 logloss:0.566893\n",
      "I0000 00:00:1755264285.536421      66 random_forest.cc:811] Training of tree  241/300 (tree index:240) done accuracy:0.792672 logloss:0.566596\n",
      "I0000 00:00:1755264287.275418      66 random_forest.cc:811] Training of tree  251/300 (tree index:248) done accuracy:0.791667 logloss:0.553049\n",
      "I0000 00:00:1755264289.047548      67 random_forest.cc:811] Training of tree  261/300 (tree index:260) done accuracy:0.79296 logloss:0.548136\n",
      "I0000 00:00:1755264290.448567      65 random_forest.cc:811] Training of tree  271/300 (tree index:270) done accuracy:0.79454 logloss:0.543168\n",
      "I0000 00:00:1755264292.283108      66 random_forest.cc:811] Training of tree  281/300 (tree index:280) done accuracy:0.794971 logloss:0.538515\n",
      "I0000 00:00:1755264293.631456      65 random_forest.cc:811] Training of tree  291/300 (tree index:289) done accuracy:0.794828 logloss:0.538523\n",
      "I0000 00:00:1755264294.795039      65 random_forest.cc:811] Training of tree  300/300 (tree index:298) done accuracy:0.793678 logloss:0.537789\n",
      "I0000 00:00:1755264294.795240      59 random_forest.cc:891] Final OOB metrics: accuracy:0.793678 logloss:0.537789\n",
      "I0000 00:00:1755264294.885224      59 kernel.cc:926] Export model in log directory: /tmp/tmpt5sy7ljk with prefix 8b01a7fd2a914def\n",
      "I0000 00:00:1755264295.088677      59 kernel.cc:944] Save model in resources\n",
      "I0000 00:00:1755264295.091190      13 abstract_model.cc:914] Model self evaluation:\n",
      "Number of predictions (without weights): 6960\n",
      "Number of predictions (with weights): 6960\n",
      "Task: CLASSIFICATION\n",
      "Label: __LABEL\n",
      "\n",
      "Accuracy: 0.793678  CI95[W][0.785537 0.801636]\n",
      "LogLoss: : 0.537789\n",
      "ErrorRate: : 0.206322\n",
      "\n",
      "Default Accuracy: : 0.501293\n",
      "Default LogLoss: : 0.693144\n",
      "Default ErrorRate: : 0.498707\n",
      "\n",
      "Confusion Table:\n",
      "truth\\prediction\n",
      "      1     2\n",
      "1  2794   677\n",
      "2   759  2730\n",
      "Total: 6960\n",
      "\n",
      "\n"
     ]
    },
    {
     "name": "stdout",
     "output_type": "stream",
     "text": [
      "Model trained in 0:00:47.610793\n",
      "Compiling model...\n"
     ]
    },
    {
     "name": "stderr",
     "output_type": "stream",
     "text": [
      "WARNING: All log messages before absl::InitializeLog() is called are written to STDERR\n",
      "I0000 00:00:1755264296.265784      13 decision_forest.cc:761] Model loaded with 300 root(s), 235744 node(s), and 13 input feature(s).\n",
      "I0000 00:00:1755264296.269022      13 abstract_model.cc:1404] Engine \"RandomForestGeneric\" built\n"
     ]
    },
    {
     "name": "stdout",
     "output_type": "stream",
     "text": [
      "Model compiled.\n"
     ]
    },
    {
     "data": {
      "text/plain": [
       "<tf_keras.src.callbacks.History at 0x7dbd725b3110>"
      ]
     },
     "execution_count": 15,
     "metadata": {},
     "output_type": "execute_result"
    }
   ],
   "source": [
    "rf.fit(x=train_ds)"
   ]
  },
  {
   "cell_type": "code",
   "execution_count": 16,
   "id": "f3e0d385",
   "metadata": {
    "execution": {
     "iopub.execute_input": "2025-08-15T13:24:57.672771Z",
     "iopub.status.busy": "2025-08-15T13:24:57.672457Z",
     "iopub.status.idle": "2025-08-15T13:24:58.025678Z",
     "shell.execute_reply": "2025-08-15T13:24:58.024689Z"
    },
    "papermill": {
     "duration": 0.363988,
     "end_time": "2025-08-15T13:24:58.027389",
     "exception": false,
     "start_time": "2025-08-15T13:24:57.663401",
     "status": "completed"
    },
    "tags": []
   },
   "outputs": [
    {
     "data": {
      "text/html": [
       "\n",
       "<script src=\"https://d3js.org/d3.v6.min.js\"></script>\n",
       "<div id=\"tree_plot_0e0ae4912c8947898ec2a19dd6da225e\"></div>\n",
       "<script>\n",
       "/*\n",
       " * Copyright 2021 Google LLC.\n",
       " * Licensed under the Apache License, Version 2.0 (the \"License\");\n",
       " * you may not use this file except in compliance with the License.\n",
       " * You may obtain a copy of the License at\n",
       " *\n",
       " *     https://www.apache.org/licenses/LICENSE-2.0\n",
       " *\n",
       " * Unless required by applicable law or agreed to in writing, software\n",
       " * distributed under the License is distributed on an \"AS IS\" BASIS,\n",
       " * WITHOUT WARRANTIES OR CONDITIONS OF ANY KIND, either express or implied.\n",
       " * See the License for the specific language governing permissions and\n",
       " * limitations under the License.\n",
       " */\n",
       "\n",
       "/**\n",
       " *  Plotting of decision trees generated by TF-DF.\n",
       " *\n",
       " *  A tree is a recursive structure of node objects.\n",
       " *  A node contains one or more of the following components:\n",
       " *\n",
       " *    - A value: Representing the output of the node. If the node is not a leaf,\n",
       " *      the value is only present for analysis i.e. it is not used for\n",
       " *      predictions.\n",
       " *\n",
       " *    - A condition : For non-leaf nodes, the condition (also known as split)\n",
       " *      defines a binary test to branch to the positive or negative child.\n",
       " *\n",
       " *    - An explanation: Generally a plot showing the relation between the label\n",
       " *      and the condition to give insights about the effect of the condition.\n",
       " *\n",
       " *    - Two children : For non-leaf nodes, the children nodes. The first\n",
       " *      children (i.e. \"node.children[0]\") is the negative children (drawn in\n",
       " *      red). The second children is the positive one (drawn in green).\n",
       " *\n",
       " */\n",
       "\n",
       "/**\n",
       " * Plots a single decision tree into a DOM element.\n",
       " * @param {!options} options Dictionary of configurations.\n",
       " * @param {!tree} raw_tree Recursive tree structure.\n",
       " * @param {string} canvas_id Id of the output dom element.\n",
       " */\n",
       "function display_tree(options, raw_tree, canvas_id) {\n",
       "  console.log(options);\n",
       "\n",
       "  // Determine the node placement.\n",
       "  const tree_struct = d3.tree().nodeSize(\n",
       "      [options.node_y_offset, options.node_x_offset])(d3.hierarchy(raw_tree));\n",
       "\n",
       "  // Boundaries of the node placement.\n",
       "  let x_min = Infinity;\n",
       "  let x_max = -x_min;\n",
       "  let y_min = Infinity;\n",
       "  let y_max = -x_min;\n",
       "\n",
       "  tree_struct.each(d => {\n",
       "    if (d.x > x_max) x_max = d.x;\n",
       "    if (d.x < x_min) x_min = d.x;\n",
       "    if (d.y > y_max) y_max = d.y;\n",
       "    if (d.y < y_min) y_min = d.y;\n",
       "  });\n",
       "\n",
       "  // Size of the plot.\n",
       "  const width = y_max - y_min + options.node_x_size + options.margin * 2;\n",
       "  const height = x_max - x_min + options.node_y_size + options.margin * 2 +\n",
       "      options.node_y_offset - options.node_y_size;\n",
       "\n",
       "  const plot = d3.select(canvas_id);\n",
       "\n",
       "  // Tool tip\n",
       "  options.tooltip = plot.append('div')\n",
       "                        .attr('width', 100)\n",
       "                        .attr('height', 100)\n",
       "                        .style('padding', '4px')\n",
       "                        .style('background', '#fff')\n",
       "                        .style('box-shadow', '4px 4px 0px rgba(0,0,0,0.1)')\n",
       "                        .style('border', '1px solid black')\n",
       "                        .style('font-family', 'sans-serif')\n",
       "                        .style('font-size', options.font_size)\n",
       "                        .style('position', 'absolute')\n",
       "                        .style('z-index', '10')\n",
       "                        .attr('pointer-events', 'none')\n",
       "                        .style('display', 'none');\n",
       "\n",
       "  // Create canvas\n",
       "  const svg = plot.append('svg').attr('width', width).attr('height', height);\n",
       "  const graph =\n",
       "      svg.style('overflow', 'visible')\n",
       "          .append('g')\n",
       "          .attr('font-family', 'sans-serif')\n",
       "          .attr('font-size', options.font_size)\n",
       "          .attr(\n",
       "              'transform',\n",
       "              () => `translate(${options.margin},${\n",
       "                  - x_min + options.node_y_offset / 2 + options.margin})`);\n",
       "\n",
       "  // Plot bounding box.\n",
       "  if (options.show_plot_bounding_box) {\n",
       "    svg.append('rect')\n",
       "        .attr('width', width)\n",
       "        .attr('height', height)\n",
       "        .attr('fill', 'none')\n",
       "        .attr('stroke-width', 1.0)\n",
       "        .attr('stroke', 'black');\n",
       "  }\n",
       "\n",
       "  // Draw the edges.\n",
       "  display_edges(options, graph, tree_struct);\n",
       "\n",
       "  // Draw the nodes.\n",
       "  display_nodes(options, graph, tree_struct);\n",
       "}\n",
       "\n",
       "/**\n",
       " * Draw the nodes of the tree.\n",
       " * @param {!options} options Dictionary of configurations.\n",
       " * @param {!graph} graph D3 search handle containing the graph.\n",
       " * @param {!tree_struct} tree_struct Structure of the tree (node placement,\n",
       " *     data, etc.).\n",
       " */\n",
       "function display_nodes(options, graph, tree_struct) {\n",
       "  const nodes = graph.append('g')\n",
       "                    .selectAll('g')\n",
       "                    .data(tree_struct.descendants())\n",
       "                    .join('g')\n",
       "                    .attr('transform', d => `translate(${d.y},${d.x})`);\n",
       "\n",
       "  nodes.append('rect')\n",
       "      .attr('x', 0.5)\n",
       "      .attr('y', 0.5)\n",
       "      .attr('width', options.node_x_size)\n",
       "      .attr('height', options.node_y_size)\n",
       "      .attr('stroke', 'lightgrey')\n",
       "      .attr('stroke-width', 1)\n",
       "      .attr('fill', 'white')\n",
       "      .attr('y', -options.node_y_size / 2);\n",
       "\n",
       "  // Brackets on the right of condition nodes without children.\n",
       "  non_leaf_node_without_children =\n",
       "      nodes.filter(node => node.data.condition != null && node.children == null)\n",
       "          .append('g')\n",
       "          .attr('transform', `translate(${options.node_x_size},0)`);\n",
       "\n",
       "  non_leaf_node_without_children.append('path')\n",
       "      .attr('d', 'M0,0 C 10,0 0,10 10,10')\n",
       "      .attr('fill', 'none')\n",
       "      .attr('stroke-width', 1.0)\n",
       "      .attr('stroke', '#F00');\n",
       "\n",
       "  non_leaf_node_without_children.append('path')\n",
       "      .attr('d', 'M0,0 C 10,0 0,-10 10,-10')\n",
       "      .attr('fill', 'none')\n",
       "      .attr('stroke-width', 1.0)\n",
       "      .attr('stroke', '#0F0');\n",
       "\n",
       "  const node_content = nodes.append('g').attr(\n",
       "      'transform',\n",
       "      `translate(0,${options.node_padding - options.node_y_size / 2})`);\n",
       "\n",
       "  node_content.append(node => create_node_element(options, node));\n",
       "}\n",
       "\n",
       "/**\n",
       " * Creates the D3 content for a single node.\n",
       " * @param {!options} options Dictionary of configurations.\n",
       " * @param {!node} node Node to draw.\n",
       " * @return {!d3} D3 content.\n",
       " */\n",
       "function create_node_element(options, node) {\n",
       "  // Output accumulator.\n",
       "  let output = {\n",
       "    // Content to draw.\n",
       "    content: d3.create('svg:g'),\n",
       "    // Vertical offset to the next element to draw.\n",
       "    vertical_offset: 0\n",
       "  };\n",
       "\n",
       "  // Conditions.\n",
       "  if (node.data.condition != null) {\n",
       "    display_condition(options, node.data.condition, output);\n",
       "  }\n",
       "\n",
       "  // Values.\n",
       "  if (node.data.value != null) {\n",
       "    display_value(options, node.data.value, output);\n",
       "  }\n",
       "\n",
       "  // Explanations.\n",
       "  if (node.data.explanation != null) {\n",
       "    display_explanation(options, node.data.explanation, output);\n",
       "  }\n",
       "\n",
       "  return output.content.node();\n",
       "}\n",
       "\n",
       "\n",
       "/**\n",
       " * Adds a single line of text inside of a node.\n",
       " * @param {!options} options Dictionary of configurations.\n",
       " * @param {string} text Text to display.\n",
       " * @param {!output} output Output display accumulator.\n",
       " */\n",
       "function display_node_text(options, text, output) {\n",
       "  output.content.append('text')\n",
       "      .attr('x', options.node_padding)\n",
       "      .attr('y', output.vertical_offset)\n",
       "      .attr('alignment-baseline', 'hanging')\n",
       "      .text(text);\n",
       "  output.vertical_offset += 10;\n",
       "}\n",
       "\n",
       "/**\n",
       " * Adds a single line of text inside of a node with a tooltip.\n",
       " * @param {!options} options Dictionary of configurations.\n",
       " * @param {string} text Text to display.\n",
       " * @param {string} tooltip Text in the Tooltip.\n",
       " * @param {!output} output Output display accumulator.\n",
       " */\n",
       "function display_node_text_with_tooltip(options, text, tooltip, output) {\n",
       "  const item = output.content.append('text')\n",
       "                   .attr('x', options.node_padding)\n",
       "                   .attr('alignment-baseline', 'hanging')\n",
       "                   .text(text);\n",
       "\n",
       "  add_tooltip(options, item, () => tooltip);\n",
       "  output.vertical_offset += 10;\n",
       "}\n",
       "\n",
       "/**\n",
       " * Adds a tooltip to a dom element.\n",
       " * @param {!options} options Dictionary of configurations.\n",
       " * @param {!dom} target Dom element to equip with a tooltip.\n",
       " * @param {!func} get_content Generates the html content of the tooltip.\n",
       " */\n",
       "function add_tooltip(options, target, get_content) {\n",
       "  function show(d) {\n",
       "    options.tooltip.style('display', 'block');\n",
       "    options.tooltip.html(get_content());\n",
       "  }\n",
       "\n",
       "  function hide(d) {\n",
       "    options.tooltip.style('display', 'none');\n",
       "  }\n",
       "\n",
       "  function move(d) {\n",
       "    options.tooltip.style('display', 'block');\n",
       "    options.tooltip.style('left', (d.pageX + 5) + 'px');\n",
       "    options.tooltip.style('top', d.pageY + 'px');\n",
       "  }\n",
       "\n",
       "  target.on('mouseover', show);\n",
       "  target.on('mouseout', hide);\n",
       "  target.on('mousemove', move);\n",
       "}\n",
       "\n",
       "/**\n",
       " * Adds a condition inside of a node.\n",
       " * @param {!options} options Dictionary of configurations.\n",
       " * @param {!condition} condition Condition to display.\n",
       " * @param {!output} output Output display accumulator.\n",
       " */\n",
       "function display_condition(options, condition, output) {\n",
       "  threshold_format = d3.format('r');\n",
       "\n",
       "  if (condition.type === 'IS_MISSING') {\n",
       "    display_node_text(options, `${condition.attribute} is missing`, output);\n",
       "    return;\n",
       "  }\n",
       "\n",
       "  if (condition.type === 'IS_TRUE') {\n",
       "    display_node_text(options, `${condition.attribute} is true`, output);\n",
       "    return;\n",
       "  }\n",
       "\n",
       "  if (condition.type === 'NUMERICAL_IS_HIGHER_THAN') {\n",
       "    format = d3.format('r');\n",
       "    display_node_text(\n",
       "        options,\n",
       "        `${condition.attribute} >= ${threshold_format(condition.threshold)}`,\n",
       "        output);\n",
       "    return;\n",
       "  }\n",
       "\n",
       "  if (condition.type === 'CATEGORICAL_IS_IN') {\n",
       "    display_node_text_with_tooltip(\n",
       "        options, `${condition.attribute} in [...]`,\n",
       "        `${condition.attribute} in [${condition.mask}]`, output);\n",
       "    return;\n",
       "  }\n",
       "\n",
       "  if (condition.type === 'CATEGORICAL_SET_CONTAINS') {\n",
       "    display_node_text_with_tooltip(\n",
       "        options, `${condition.attribute} intersect [...]`,\n",
       "        `${condition.attribute} intersect [${condition.mask}]`, output);\n",
       "    return;\n",
       "  }\n",
       "\n",
       "  if (condition.type === 'NUMERICAL_SPARSE_OBLIQUE') {\n",
       "    display_node_text_with_tooltip(\n",
       "        options, `Sparse oblique split...`,\n",
       "        `[${condition.attributes}]*[${condition.weights}]>=${\n",
       "            threshold_format(condition.threshold)}`,\n",
       "        output);\n",
       "    return;\n",
       "  }\n",
       "\n",
       "  display_node_text(\n",
       "      options, `Non supported condition ${condition.type}`, output);\n",
       "}\n",
       "\n",
       "/**\n",
       " * Adds a value inside of a node.\n",
       " * @param {!options} options Dictionary of configurations.\n",
       " * @param {!value} value Value to display.\n",
       " * @param {!output} output Output display accumulator.\n",
       " */\n",
       "function display_value(options, value, output) {\n",
       "  if (value.type === 'PROBABILITY') {\n",
       "    const left_margin = 0;\n",
       "    const right_margin = 50;\n",
       "    const plot_width = options.node_x_size - options.node_padding * 2 -\n",
       "        left_margin - right_margin;\n",
       "\n",
       "    let cusum = Array.from(d3.cumsum(value.distribution));\n",
       "    cusum.unshift(0);\n",
       "    const distribution_plot = output.content.append('g').attr(\n",
       "        'transform', `translate(0,${output.vertical_offset + 0.5})`);\n",
       "\n",
       "    distribution_plot.selectAll('rect')\n",
       "        .data(value.distribution)\n",
       "        .join('rect')\n",
       "        .attr('height', 10)\n",
       "        .attr(\n",
       "            'x',\n",
       "            (d, i) =>\n",
       "                (cusum[i] * plot_width + left_margin + options.node_padding))\n",
       "        .attr('width', (d, i) => d * plot_width)\n",
       "        .style('fill', (d, i) => d3.schemeSet1[i]);\n",
       "\n",
       "    const num_examples =\n",
       "        output.content.append('g')\n",
       "            .attr('transform', `translate(0,${output.vertical_offset})`)\n",
       "            .append('text')\n",
       "            .attr('x', options.node_x_size - options.node_padding)\n",
       "            .attr('alignment-baseline', 'hanging')\n",
       "            .attr('text-anchor', 'end')\n",
       "            .text(`(${value.num_examples})`);\n",
       "\n",
       "    const distribution_details = d3.create('ul');\n",
       "    distribution_details.selectAll('li')\n",
       "        .data(value.distribution)\n",
       "        .join('li')\n",
       "        .append('span')\n",
       "        .text(\n",
       "            (d, i) =>\n",
       "                'class ' + i + ': ' + d3.format('.3%')(value.distribution[i]));\n",
       "\n",
       "    add_tooltip(options, distribution_plot, () => distribution_details.html());\n",
       "    add_tooltip(options, num_examples, () => 'Number of examples');\n",
       "\n",
       "    output.vertical_offset += 10;\n",
       "    return;\n",
       "  }\n",
       "\n",
       "  if (value.type === 'REGRESSION') {\n",
       "    display_node_text(\n",
       "        options,\n",
       "        'value: ' + d3.format('r')(value.value) + ` (` +\n",
       "            d3.format('.6')(value.num_examples) + `)`,\n",
       "        output);\n",
       "    return;\n",
       "  }\n",
       "\n",
       "  if (value.type === 'UPLIFT') {\n",
       "    display_node_text(\n",
       "        options,\n",
       "        'effect: ' + d3.format('r')(value.treatment_effect) + ` (` +\n",
       "            d3.format('.6')(value.num_examples) + `)`,\n",
       "        output);\n",
       "    return;\n",
       "  }\n",
       "\n",
       "  display_node_text(options, `Non supported value ${value.type}`, output);\n",
       "}\n",
       "\n",
       "/**\n",
       " * Adds an explanation inside of a node.\n",
       " * @param {!options} options Dictionary of configurations.\n",
       " * @param {!explanation} explanation Explanation to display.\n",
       " * @param {!output} output Output display accumulator.\n",
       " */\n",
       "function display_explanation(options, explanation, output) {\n",
       "  // Margin before the explanation.\n",
       "  output.vertical_offset += 10;\n",
       "\n",
       "  display_node_text(\n",
       "      options, `Non supported explanation ${explanation.type}`, output);\n",
       "}\n",
       "\n",
       "\n",
       "/**\n",
       " * Draw the edges of the tree.\n",
       " * @param {!options} options Dictionary of configurations.\n",
       " * @param {!graph} graph D3 search handle containing the graph.\n",
       " * @param {!tree_struct} tree_struct Structure of the tree (node placement,\n",
       " *     data, etc.).\n",
       " */\n",
       "function display_edges(options, graph, tree_struct) {\n",
       "  // Draw an edge between a parent and a child node with a bezier.\n",
       "  function draw_single_edge(d) {\n",
       "    return 'M' + (d.source.y + options.node_x_size) + ',' + d.source.x + ' C' +\n",
       "        (d.source.y + options.node_x_size + options.edge_rounding) + ',' +\n",
       "        d.source.x + ' ' + (d.target.y - options.edge_rounding) + ',' +\n",
       "        d.target.x + ' ' + d.target.y + ',' + d.target.x;\n",
       "  }\n",
       "\n",
       "  graph.append('g')\n",
       "      .attr('fill', 'none')\n",
       "      .attr('stroke-width', 1.2)\n",
       "      .selectAll('path')\n",
       "      .data(tree_struct.links())\n",
       "      .join('path')\n",
       "      .attr('d', draw_single_edge)\n",
       "      .attr(\n",
       "          'stroke', d => (d.target === d.source.children[0]) ? '#0F0' : '#F00');\n",
       "}\n",
       "\n",
       "display_tree({\"margin\": 10, \"node_x_size\": 160, \"node_y_size\": 28, \"node_x_offset\": 180, \"node_y_offset\": 33, \"font_size\": 10, \"edge_rounding\": 20, \"node_padding\": 2, \"show_plot_bounding_box\": false}, {\"value\": {\"type\": \"PROBABILITY\", \"distribution\": [0.5040229885057471, 0.4959770114942529], \"num_examples\": 6960.0}, \"condition\": {\"type\": \"NUMERICAL_IS_HIGHER_THAN\", \"attribute\": \"RoomService\", \"threshold\": 0.5}, \"children\": [{\"value\": {\"type\": \"PROBABILITY\", \"distribution\": [0.7406532861078315, 0.25934671389216846], \"num_examples\": 2541.0}, \"condition\": {\"type\": \"NUMERICAL_IS_HIGHER_THAN\", \"attribute\": \"RoomService\", \"threshold\": 523.5}, \"children\": [{\"value\": {\"type\": \"PROBABILITY\", \"distribution\": [0.8805166846071044, 0.11948331539289558], \"num_examples\": 929.0}, \"condition\": {\"type\": \"CATEGORICAL_IS_IN\", \"attribute\": \"Cabin_num\", \"mask\": [\"<OOD>\", \"82\", \"86\", \"35\", \"103\", \"65\", \"53\", \"14\", \"123\", \"95\", \"258\", \"124\", \"117\", \"78\", \"54\", \"42\", \"281\", \"25\", \"23\", \"227\", \"226\", \"222\", \"20\", \"189\", \"187\", \"175\", \"5\", \"283\", \"262\", \"238\", \"233\", \"127\", \"120\", \"115\", \"92\", \"90\", \"85\", \"66\", \"39\", \"3\", \"250\", \"246\", \"215\", \"213\", \"206\", \"179\", \"171\", \"134\", \"81\", \"74\", \"450\", \"319\", \"288\", \"287\", \"245\", \"220\", \"193\", \"191\", \"145\", \"102\", \"100\", \"61\", \"284\", \"266\", \"261\", \"249\", \"248\", \"1653\", \"161\", \"126\", \"111\", \"1026\", \"856\", \"7\", \"574\", \"571\", \"570\", \"52\", \"412\", \"352\", \"305\", \"275\", \"254\", \"153\", \"1108\", \"938\", \"648\", \"585\", \"461\", \"33\", \"312\", \"301\", \"204\", \"154\", \"141\", \"893\", \"868\", \"805\", \"554\", \"517\", \"475\", \"437\", \"367\", \"335\", \"282\", \"273\", \"1711\", \"169\", \"138\", \"1317\", \"130\", \"1294\", \"1109\", \"1000\"]}, \"children\": [{\"value\": {\"type\": \"PROBABILITY\", \"distribution\": [0.8502994011976048, 0.1497005988023952], \"num_examples\": 668.0}, \"condition\": {\"type\": \"CATEGORICAL_IS_IN\", \"attribute\": \"Deck\", \"mask\": [\"B\", \"C\"]}}, {\"value\": {\"type\": \"PROBABILITY\", \"distribution\": [0.9578544061302682, 0.0421455938697318], \"num_examples\": 261.0}, \"condition\": {\"type\": \"NUMERICAL_IS_HIGHER_THAN\", \"attribute\": \"RoomService\", \"threshold\": 817.0}}]}, {\"value\": {\"type\": \"PROBABILITY\", \"distribution\": [0.6600496277915633, 0.3399503722084367], \"num_examples\": 1612.0}, \"condition\": {\"type\": \"NUMERICAL_IS_HIGHER_THAN\", \"attribute\": \"ShoppingMall\", \"threshold\": 702.0}, \"children\": [{\"value\": {\"type\": \"PROBABILITY\", \"distribution\": [0.41312741312741313, 0.5868725868725869], \"num_examples\": 259.0}, \"condition\": {\"type\": \"NUMERICAL_IS_HIGHER_THAN\", \"attribute\": \"ShoppingMall\", \"threshold\": 2002.5}}, {\"value\": {\"type\": \"PROBABILITY\", \"distribution\": [0.7073170731707317, 0.2926829268292683], \"num_examples\": 1353.0}, \"condition\": {\"type\": \"NUMERICAL_IS_HIGHER_THAN\", \"attribute\": \"CryoSleep\", \"threshold\": 0.5}}]}]}, {\"value\": {\"type\": \"PROBABILITY\", \"distribution\": [0.36795655125594023, 0.6320434487440597], \"num_examples\": 4419.0}, \"condition\": {\"type\": \"NUMERICAL_IS_HIGHER_THAN\", \"attribute\": \"VRDeck\", \"threshold\": 6.5}, \"children\": [{\"value\": {\"type\": \"PROBABILITY\", \"distribution\": [0.713026444662096, 0.28697355533790403], \"num_examples\": 1021.0}, \"condition\": {\"type\": \"NUMERICAL_IS_HIGHER_THAN\", \"attribute\": \"FoodCourt\", \"threshold\": 1130.0}, \"children\": [{\"value\": {\"type\": \"PROBABILITY\", \"distribution\": [0.4490566037735849, 0.5509433962264151], \"num_examples\": 265.0}, \"condition\": {\"type\": \"CATEGORICAL_IS_IN\", \"attribute\": \"Cabin_num\", \"mask\": [\"86\", \"19\", \"186\", \"0\", \"91\", \"103\", \"53\", \"27\", \"18\", \"150\", \"125\", \"151\", \"269\", \"237\", \"218\", \"16\", \"156\", \"9\", \"60\", \"47\", \"38\", \"80\", \"37\", \"127\", \"115\", \"96\", \"66\", \"253\", \"250\", \"2\", \"179\", \"10\", \"94\", \"81\", \"48\", \"330\", \"319\", \"297\", \"288\", \"225\", \"196\", \"193\", \"192\", \"191\", \"101\", \"331\", \"277\", \"203\", \"190\", \"181\", \"126\", \"111\", \"52\", \"26\", \"104\", \"280\", \"141\", \"556\", \"548\", \"240\", \"130\"]}}, {\"value\": {\"type\": \"PROBABILITY\", \"distribution\": [0.8055555555555556, 0.19444444444444445], \"num_examples\": 756.0}, \"condition\": {\"type\": \"NUMERICAL_IS_HIGHER_THAN\", \"attribute\": \"Spa\", \"threshold\": 7.5}}]}, {\"value\": {\"type\": \"PROBABILITY\", \"distribution\": [0.26427310182460273, 0.7357268981753973], \"num_examples\": 3398.0}, \"condition\": {\"type\": \"CATEGORICAL_IS_IN\", \"attribute\": \"HomePlanet\", \"mask\": [\"Europa\", \"Mars\"]}, \"children\": [{\"value\": {\"type\": \"PROBABILITY\", \"distribution\": [0.09662162162162162, 0.9033783783783784], \"num_examples\": 1480.0}, \"condition\": {\"type\": \"NUMERICAL_IS_HIGHER_THAN\", \"attribute\": \"CryoSleep\", \"threshold\": 0.5}}, {\"value\": {\"type\": \"PROBABILITY\", \"distribution\": [0.39363920750782067, 0.6063607924921793], \"num_examples\": 1918.0}, \"condition\": {\"type\": \"NUMERICAL_IS_HIGHER_THAN\", \"attribute\": \"ShoppingMall\", \"threshold\": 626.5}}]}]}]}, \"#tree_plot_0e0ae4912c8947898ec2a19dd6da225e\")\n",
       "</script>\n"
      ],
      "text/plain": [
       "<IPython.core.display.HTML object>"
      ]
     },
     "execution_count": 16,
     "metadata": {},
     "output_type": "execute_result"
    }
   ],
   "source": [
    "tfdf.model_plotter.plot_model_in_colab(rf,tree_idx=0,max_depth=3)"
   ]
  },
  {
   "cell_type": "markdown",
   "id": "77d65887",
   "metadata": {
    "papermill": {
     "duration": 0.008606,
     "end_time": "2025-08-15T13:24:58.045924",
     "exception": false,
     "start_time": "2025-08-15T13:24:58.037318",
     "status": "completed"
    },
    "tags": []
   },
   "source": [
    "En un Random Forest, cada árbol se entrena con un subconjunto aleatorio de los datos (con reemplazo).\n",
    "\n",
    "Esto significa que algunas muestras no se usan para entrenar un árbol concreto.\n",
    "\n",
    "Esas muestras no usadas se llaman OOB (Out-of-Bag) para ese árbol."
   ]
  },
  {
   "cell_type": "code",
   "execution_count": 17,
   "id": "839e1763",
   "metadata": {
    "execution": {
     "iopub.execute_input": "2025-08-15T13:24:58.065292Z",
     "iopub.status.busy": "2025-08-15T13:24:58.064615Z",
     "iopub.status.idle": "2025-08-15T13:24:58.646335Z",
     "shell.execute_reply": "2025-08-15T13:24:58.645325Z"
    },
    "papermill": {
     "duration": 0.593042,
     "end_time": "2025-08-15T13:24:58.647784",
     "exception": false,
     "start_time": "2025-08-15T13:24:58.054742",
     "status": "completed"
    },
    "tags": []
   },
   "outputs": [
    {
     "data": {
      "image/png": "[encoded data removed]",
      "text/plain": [
       "<Figure size 640x480 with 1 Axes>"
      ]
     },
     "metadata": {},
     "output_type": "display_data"
    }
   ],
   "source": [
    "\n",
    "\n",
    "# rf es nuestro modelo Random Forest ya entrenado\n",
    "# make_inspector nos permite acceder a información interna del modelo\n",
    "inspector = rf.make_inspector()\n",
    "\n",
    "# training_logs devuelve la lista de registros de entrenamiento de cada árbol\n",
    "# Cada log tiene información como número de árboles entrenados y precisión OOB\n",
    "logs = inspector.training_logs()\n",
    "\n",
    "# Vamos a crear dos listas:\n",
    "# 1. Número de árboles entrenados en cada punto\n",
    "# 2. Precisión calculada sobre los datos Out-of-Bag (OOB) en ese momento\n",
    "num_trees = [log.num_trees for log in logs]          # Número de árboles hasta ese log\n",
    "oob_accuracy = [log.evaluation.accuracy for log in logs]  # Precisión sobre OOB\n",
    "\n",
    "# Ahora podemos visualizar cómo cambia la precisión OOB a medida que aumentamos los árboles\n",
    "plt.plot(num_trees, oob_accuracy)  # Graficamos número de árboles vs precisión OOB\n",
    "plt.xlabel(\"Number of trees\")      # Etiqueta eje X\n",
    "plt.ylabel(\"Accuracy (out-of-bag)\") # Etiqueta eje Y\n",
    "plt.title(\"Rendimiento OOB durante entrenamiento del Random Forest\") # Título del gráfico\n",
    "plt.show()  # Mostramos el gráfico\n"
   ]
  },
  {
   "cell_type": "code",
   "execution_count": 18,
   "id": "fd509104",
   "metadata": {
    "execution": {
     "iopub.execute_input": "2025-08-15T13:24:58.668762Z",
     "iopub.status.busy": "2025-08-15T13:24:58.668140Z",
     "iopub.status.idle": "2025-08-15T13:24:58.673752Z",
     "shell.execute_reply": "2025-08-15T13:24:58.672937Z"
    },
    "papermill": {
     "duration": 0.017641,
     "end_time": "2025-08-15T13:24:58.675295",
     "exception": false,
     "start_time": "2025-08-15T13:24:58.657654",
     "status": "completed"
    },
    "tags": []
   },
   "outputs": [
    {
     "data": {
      "text/plain": [
       "Evaluation(num_examples=6960, accuracy=0.7936781609195402, loss=0.537789236067061, rmse=None, ndcg=None, aucs=None, auuc=None, qini=None)"
      ]
     },
     "execution_count": 18,
     "metadata": {},
     "output_type": "execute_result"
    }
   ],
   "source": [
    "inspector.evaluation()"
   ]
  },
  {
   "cell_type": "markdown",
   "id": "abf9be94",
   "metadata": {
    "papermill": {
     "duration": 0.009437,
     "end_time": "2025-08-15T13:24:58.694538",
     "exception": false,
     "start_time": "2025-08-15T13:24:58.685101",
     "status": "completed"
    },
    "tags": []
   },
   "source": [
    "## veamos la importancia de cada variable"
   ]
  },
  {
   "cell_type": "code",
   "execution_count": 19,
   "id": "2403e680",
   "metadata": {
    "execution": {
     "iopub.execute_input": "2025-08-15T13:24:58.715645Z",
     "iopub.status.busy": "2025-08-15T13:24:58.715300Z",
     "iopub.status.idle": "2025-08-15T13:24:58.720392Z",
     "shell.execute_reply": "2025-08-15T13:24:58.719456Z"
    },
    "papermill": {
     "duration": 0.016878,
     "end_time": "2025-08-15T13:24:58.721615",
     "exception": false,
     "start_time": "2025-08-15T13:24:58.704737",
     "status": "completed"
    },
    "tags": []
   },
   "outputs": [
    {
     "name": "stdout",
     "output_type": "stream",
     "text": [
      "Importancias:\n",
      "\t INV_MEAN_MIN_DEPTH\n",
      "\t NUM_AS_ROOT\n",
      "\t NUM_NODES\n",
      "\t SUM_SCORE\n"
     ]
    }
   ],
   "source": [
    "print(f\"Importancias:\")\n",
    "for importance in inspector.variable_importances().keys():\n",
    "    print(\"\\t\",importance)"
   ]
  },
  {
   "cell_type": "code",
   "execution_count": 20,
   "id": "155fac12",
   "metadata": {
    "execution": {
     "iopub.execute_input": "2025-08-15T13:24:58.742461Z",
     "iopub.status.busy": "2025-08-15T13:24:58.742153Z",
     "iopub.status.idle": "2025-08-15T13:24:58.748354Z",
     "shell.execute_reply": "2025-08-15T13:24:58.747446Z"
    },
    "papermill": {
     "duration": 0.01814,
     "end_time": "2025-08-15T13:24:58.749676",
     "exception": false,
     "start_time": "2025-08-15T13:24:58.731536",
     "status": "completed"
    },
    "tags": []
   },
   "outputs": [
    {
     "data": {
      "text/plain": [
       "[(\"CryoSleep\" (1; #2), 128.0),\n",
       " (\"RoomService\" (1; #7), 62.0),\n",
       " (\"Spa\" (1; #10), 58.0),\n",
       " (\"VRDeck\" (1; #12), 26.0),\n",
       " (\"ShoppingMall\" (1; #8), 15.0),\n",
       " (\"FoodCourt\" (1; #5), 8.0),\n",
       " (\"Deck\" (4; #3), 2.0),\n",
       " (\"HomePlanet\" (4; #6), 1.0)]"
      ]
     },
     "execution_count": 20,
     "metadata": {},
     "output_type": "execute_result"
    }
   ],
   "source": [
    "# CADA LINEA ES: nombre,(indice),importancia\n",
    "inspector.variable_importances()['NUM_AS_ROOT']"
   ]
  },
  {
   "cell_type": "code",
   "execution_count": 21,
   "id": "841cab9f",
   "metadata": {
    "execution": {
     "iopub.execute_input": "2025-08-15T13:24:58.771259Z",
     "iopub.status.busy": "2025-08-15T13:24:58.770943Z",
     "iopub.status.idle": "2025-08-15T13:24:59.432682Z",
     "shell.execute_reply": "2025-08-15T13:24:59.431643Z"
    },
    "papermill": {
     "duration": 0.674524,
     "end_time": "2025-08-15T13:24:59.434074",
     "exception": false,
     "start_time": "2025-08-15T13:24:58.759550",
     "status": "completed"
    },
    "tags": []
   },
   "outputs": [
    {
     "name": "stderr",
     "output_type": "stream",
     "text": [
      "/usr/local/lib/python3.11/dist-packages/pandas/io/formats/format.py:1458: RuntimeWarning: invalid value encountered in greater\n",
      "  has_large_values = (abs_vals > 1e6).any()\n",
      "/usr/local/lib/python3.11/dist-packages/pandas/io/formats/format.py:1459: RuntimeWarning: invalid value encountered in less\n",
      "  has_small_values = ((abs_vals < 10 ** (-self.digits)) & (abs_vals > 0)).any()\n",
      "/usr/local/lib/python3.11/dist-packages/pandas/io/formats/format.py:1459: RuntimeWarning: invalid value encountered in greater\n",
      "  has_small_values = ((abs_vals < 10 ** (-self.digits)) & (abs_vals > 0)).any()\n"
     ]
    },
    {
     "name": "stdout",
     "output_type": "stream",
     "text": [
      "5/5 [==============================] - 1s 70ms/step\n"
     ]
    },
    {
     "data": {
      "text/html": [
       "<div>\n",
       "<style scoped>\n",
       "    .dataframe tbody tr th:only-of-type {\n",
       "        vertical-align: middle;\n",
       "    }\n",
       "\n",
       "    .dataframe tbody tr th {\n",
       "        vertical-align: top;\n",
       "    }\n",
       "\n",
       "    .dataframe thead th {\n",
       "        text-align: right;\n",
       "    }\n",
       "</style>\n",
       "<table border=\"1\" class=\"dataframe\">\n",
       "  <thead>\n",
       "    <tr style=\"text-align: right;\">\n",
       "      <th></th>\n",
       "      <th>PassengerID</th>\n",
       "      <th>Transported</th>\n",
       "    </tr>\n",
       "  </thead>\n",
       "  <tbody>\n",
       "    <tr>\n",
       "      <th>0</th>\n",
       "      <td>0013_01</td>\n",
       "      <td>True</td>\n",
       "    </tr>\n",
       "    <tr>\n",
       "      <th>1</th>\n",
       "      <td>0018_01</td>\n",
       "      <td>False</td>\n",
       "    </tr>\n",
       "    <tr>\n",
       "      <th>2</th>\n",
       "      <td>0019_01</td>\n",
       "      <td>True</td>\n",
       "    </tr>\n",
       "    <tr>\n",
       "      <th>3</th>\n",
       "      <td>0021_01</td>\n",
       "      <td>True</td>\n",
       "    </tr>\n",
       "    <tr>\n",
       "      <th>4</th>\n",
       "      <td>0023_01</td>\n",
       "      <td>False</td>\n",
       "    </tr>\n",
       "  </tbody>\n",
       "</table>\n",
       "</div>"
      ],
      "text/plain": [
       "  PassengerID  Transported\n",
       "0     0013_01         True\n",
       "1     0018_01        False\n",
       "2     0019_01         True\n",
       "3     0021_01         True\n",
       "4     0023_01        False"
      ]
     },
     "execution_count": 21,
     "metadata": {},
     "output_type": "execute_result"
    }
   ],
   "source": [
    "test_df = pd.read_csv('/kaggle/input/spaceship-titanic/test.csv')\n",
    "submission_id = test_df.PassengerId\n",
    "\n",
    "# reemplazamos nulos con 0 en el conjunto de test\n",
    "test_df[['VIP','CryoSleep']] = test_df[['VIP','CryoSleep']].fillna(value=0)\n",
    "\n",
    "test_df[[\"Deck\",\"Cabin_num\",\"Side\"]] = test_df[\"Cabin\"].str.split(\"/\",expand= True)\n",
    "test_df = test_df.drop('Cabin',axis=1)\n",
    "\n",
    "# convertimos booleanos a '0's y '1's\n",
    "test_df['VIP'] = test_df['VIP'].astype(int)\n",
    "test_df['CryoSleep'] = test_df['CryoSleep'].astype(int)\n",
    "\n",
    "# convertimos pd dataframe a tf dataset\n",
    "test_ds = tfdf.keras.pd_dataframe_to_tf_dataset(test_df)\n",
    "\n",
    "# obtenemos predicciones\n",
    "predicciones = rf.predict(test_ds)\n",
    "n_predicciones = (predicciones > 0.5).astype(bool)\n",
    "output=pd.DataFrame({'PassengerID' : submission_id,\n",
    "                    'Transported' : n_predicciones.squeeze()})\n",
    "output.head()"
   ]
  },
  {
   "cell_type": "code",
   "execution_count": 22,
   "id": "54ee302b",
   "metadata": {
    "execution": {
     "iopub.execute_input": "2025-08-15T13:24:59.456182Z",
     "iopub.status.busy": "2025-08-15T13:24:59.455802Z",
     "iopub.status.idle": "2025-08-15T13:24:59.487972Z",
     "shell.execute_reply": "2025-08-15T13:24:59.487000Z"
    },
    "papermill": {
     "duration": 0.045102,
     "end_time": "2025-08-15T13:24:59.489534",
     "exception": false,
     "start_time": "2025-08-15T13:24:59.444432",
     "status": "completed"
    },
    "tags": []
   },
   "outputs": [
    {
     "data": {
      "text/html": [
       "<div>\n",
       "<style scoped>\n",
       "    .dataframe tbody tr th:only-of-type {\n",
       "        vertical-align: middle;\n",
       "    }\n",
       "\n",
       "    .dataframe tbody tr th {\n",
       "        vertical-align: top;\n",
       "    }\n",
       "\n",
       "    .dataframe thead th {\n",
       "        text-align: right;\n",
       "    }\n",
       "</style>\n",
       "<table border=\"1\" class=\"dataframe\">\n",
       "  <thead>\n",
       "    <tr style=\"text-align: right;\">\n",
       "      <th></th>\n",
       "      <th>PassengerId</th>\n",
       "      <th>Transported</th>\n",
       "    </tr>\n",
       "  </thead>\n",
       "  <tbody>\n",
       "    <tr>\n",
       "      <th>0</th>\n",
       "      <td>0013_01</td>\n",
       "      <td>True</td>\n",
       "    </tr>\n",
       "    <tr>\n",
       "      <th>1</th>\n",
       "      <td>0018_01</td>\n",
       "      <td>False</td>\n",
       "    </tr>\n",
       "    <tr>\n",
       "      <th>2</th>\n",
       "      <td>0019_01</td>\n",
       "      <td>True</td>\n",
       "    </tr>\n",
       "    <tr>\n",
       "      <th>3</th>\n",
       "      <td>0021_01</td>\n",
       "      <td>True</td>\n",
       "    </tr>\n",
       "    <tr>\n",
       "      <th>4</th>\n",
       "      <td>0023_01</td>\n",
       "      <td>False</td>\n",
       "    </tr>\n",
       "  </tbody>\n",
       "</table>\n",
       "</div>"
      ],
      "text/plain": [
       "  PassengerId  Transported\n",
       "0     0013_01         True\n",
       "1     0018_01        False\n",
       "2     0019_01         True\n",
       "3     0021_01         True\n",
       "4     0023_01        False"
      ]
     },
     "execution_count": 22,
     "metadata": {},
     "output_type": "execute_result"
    }
   ],
   "source": [
    "sample_submission_df = pd.read_csv('/kaggle/input/spaceship-titanic/sample_submission.csv')\n",
    "sample_submission_df['Transported'] = n_predicciones\n",
    "sample_submission_df.to_csv('/kaggle/working/submission.csv', index=False)\n",
    "sample_submission_df.head()"
   ]
  }
 ],
 "metadata": {
  "kaggle": {
   "accelerator": "none",
   "dataSources": [
    {
     "databundleVersionId": 3220602,
     "sourceId": 34377,
     "sourceType": "competition"
    }
   ],
   "dockerImageVersionId": 31089,
   "isGpuEnabled": false,
   "isInternetEnabled": true,
   "language": "python",
   "sourceType": "notebook"
  },
  "kernelspec": {
   "display_name": "Python 3",
   "language": "python",
   "name": "python3"
  },
  "language_info": {
   "codemirror_mode": {
    "name": "ipython",
    "version": 3
   },
   "file_extension": ".py",
   "mimetype": "text/x-python",
   "name": "python",
   "nbconvert_exporter": "python",
   "pygments_lexer": "ipython3",
   "version": "3.11.13"
  },
  "papermill": {
   "default_parameters": {},
   "duration": 88.244442,
   "end_time": "2025-08-15T13:25:02.489392",
   "environment_variables": {},
   "exception": null,
   "input_path": "__notebook__.ipynb",
   "output_path": "__notebook__.ipynb",
   "parameters": {},
   "start_time": "2025-08-15T13:23:34.244950",
   "version": "2.6.0"
  }
 },
 "nbformat": 4,
 "nbformat_minor": 5
}
