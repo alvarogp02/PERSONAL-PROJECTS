{
 "cells": [
  {
   "cell_type": "markdown",
   "id": "a097d983",
   "metadata": {
    "papermill": {
     "duration": 0.004046,
     "end_time": "2025-08-15T18:11:57.266403",
     "exception": false,
     "start_time": "2025-08-15T18:11:57.262357",
     "status": "completed"
    },
    "tags": []
   },
   "source": [
    "# Comenzamos importando"
   ]
  },
  {
   "cell_type": "code",
   "execution_count": 1,
   "id": "f751f4b1",
   "metadata": {
    "_cell_guid": "b1076dfc-b9ad-4769-8c92-a6c4dae69d19",
    "_uuid": "8f2839f25d086af736a60e9eeb907d3b93b6e0e5",
    "execution": {
     "iopub.execute_input": "2025-08-15T18:11:57.274786Z",
     "iopub.status.busy": "2025-08-15T18:11:57.274457Z",
     "iopub.status.idle": "2025-08-15T18:12:19.057918Z",
     "shell.execute_reply": "2025-08-15T18:12:19.056364Z"
    },
    "papermill": {
     "duration": 21.789742,
     "end_time": "2025-08-15T18:12:19.059855",
     "exception": false,
     "start_time": "2025-08-15T18:11:57.270113",
     "status": "completed"
    },
    "tags": []
   },
   "outputs": [
    {
     "name": "stderr",
     "output_type": "stream",
     "text": [
      "2025-08-15 18:12:00.965677: E external/local_xla/xla/stream_executor/cuda/cuda_fft.cc:477] Unable to register cuFFT factory: Attempting to register factory for plugin cuFFT when one has already been registered\n",
      "WARNING: All log messages before absl::InitializeLog() is called are written to STDERR\n",
      "E0000 00:00:1755281521.214390      13 cuda_dnn.cc:8310] Unable to register cuDNN factory: Attempting to register factory for plugin cuDNN when one has already been registered\n",
      "E0000 00:00:1755281521.286170      13 cuda_blas.cc:1418] Unable to register cuBLAS factory: Attempting to register factory for plugin cuBLAS when one has already been registered\n"
     ]
    }
   ],
   "source": [
    "import numpy as np\n",
    "import pandas as pd\n",
    "import tensorflow as tf\n",
    "from tensorflow import keras\n",
    "import keras_nlp\n",
    "from sklearn.model_selection import train_test_split"
   ]
  },
  {
   "cell_type": "markdown",
   "id": "5495132a",
   "metadata": {
    "papermill": {
     "duration": 0.005174,
     "end_time": "2025-08-15T18:12:19.075578",
     "exception": false,
     "start_time": "2025-08-15T18:12:19.070404",
     "status": "completed"
    },
    "tags": []
   },
   "source": [
    "Carga y exploración de datos"
   ]
  },
  {
   "cell_type": "code",
   "execution_count": 2,
   "id": "61e0ce44",
   "metadata": {
    "execution": {
     "iopub.execute_input": "2025-08-15T18:12:19.086577Z",
     "iopub.status.busy": "2025-08-15T18:12:19.084917Z",
     "iopub.status.idle": "2025-08-15T18:12:19.188690Z",
     "shell.execute_reply": "2025-08-15T18:12:19.186998Z"
    },
    "papermill": {
     "duration": 0.110582,
     "end_time": "2025-08-15T18:12:19.190249",
     "exception": false,
     "start_time": "2025-08-15T18:12:19.079667",
     "status": "completed"
    },
    "tags": []
   },
   "outputs": [],
   "source": [
    "train_df = pd.read_csv(\"/kaggle/input/nlp-getting-started/train.csv\")\n",
    "test_df = pd.read_csv(\"/kaggle/input/nlp-getting-started/test.csv\")\n"
   ]
  },
  {
   "cell_type": "code",
   "execution_count": 3,
   "id": "0850bb45",
   "metadata": {
    "execution": {
     "iopub.execute_input": "2025-08-15T18:12:19.199667Z",
     "iopub.status.busy": "2025-08-15T18:12:19.199371Z",
     "iopub.status.idle": "2025-08-15T18:12:19.227122Z",
     "shell.execute_reply": "2025-08-15T18:12:19.226271Z"
    },
    "papermill": {
     "duration": 0.034918,
     "end_time": "2025-08-15T18:12:19.228793",
     "exception": false,
     "start_time": "2025-08-15T18:12:19.193875",
     "status": "completed"
    },
    "tags": []
   },
   "outputs": [
    {
     "data": {
      "text/html": [
       "<div>\n",
       "<style scoped>\n",
       "    .dataframe tbody tr th:only-of-type {\n",
       "        vertical-align: middle;\n",
       "    }\n",
       "\n",
       "    .dataframe tbody tr th {\n",
       "        vertical-align: top;\n",
       "    }\n",
       "\n",
       "    .dataframe thead th {\n",
       "        text-align: right;\n",
       "    }\n",
       "</style>\n",
       "<table border=\"1\" class=\"dataframe\">\n",
       "  <thead>\n",
       "    <tr style=\"text-align: right;\">\n",
       "      <th></th>\n",
       "      <th>id</th>\n",
       "      <th>keyword</th>\n",
       "      <th>location</th>\n",
       "      <th>text</th>\n",
       "      <th>target</th>\n",
       "    </tr>\n",
       "  </thead>\n",
       "  <tbody>\n",
       "    <tr>\n",
       "      <th>0</th>\n",
       "      <td>1</td>\n",
       "      <td>NaN</td>\n",
       "      <td>NaN</td>\n",
       "      <td>Our Deeds are the Reason of this #earthquake M...</td>\n",
       "      <td>1</td>\n",
       "    </tr>\n",
       "    <tr>\n",
       "      <th>1</th>\n",
       "      <td>4</td>\n",
       "      <td>NaN</td>\n",
       "      <td>NaN</td>\n",
       "      <td>Forest fire near La Ronge Sask. Canada</td>\n",
       "      <td>1</td>\n",
       "    </tr>\n",
       "    <tr>\n",
       "      <th>2</th>\n",
       "      <td>5</td>\n",
       "      <td>NaN</td>\n",
       "      <td>NaN</td>\n",
       "      <td>All residents asked to 'shelter in place' are ...</td>\n",
       "      <td>1</td>\n",
       "    </tr>\n",
       "  </tbody>\n",
       "</table>\n",
       "</div>"
      ],
      "text/plain": [
       "   id keyword location                                               text  \\\n",
       "0   1     NaN      NaN  Our Deeds are the Reason of this #earthquake M...   \n",
       "1   4     NaN      NaN             Forest fire near La Ronge Sask. Canada   \n",
       "2   5     NaN      NaN  All residents asked to 'shelter in place' are ...   \n",
       "\n",
       "   target  \n",
       "0       1  \n",
       "1       1  \n",
       "2       1  "
      ]
     },
     "execution_count": 3,
     "metadata": {},
     "output_type": "execute_result"
    }
   ],
   "source": [
    "train_df.head(3)"
   ]
  },
  {
   "cell_type": "code",
   "execution_count": 4,
   "id": "516933d0",
   "metadata": {
    "execution": {
     "iopub.execute_input": "2025-08-15T18:12:19.237876Z",
     "iopub.status.busy": "2025-08-15T18:12:19.237556Z",
     "iopub.status.idle": "2025-08-15T18:12:19.243671Z",
     "shell.execute_reply": "2025-08-15T18:12:19.242867Z"
    },
    "papermill": {
     "duration": 0.012907,
     "end_time": "2025-08-15T18:12:19.245840",
     "exception": false,
     "start_time": "2025-08-15T18:12:19.232933",
     "status": "completed"
    },
    "tags": []
   },
   "outputs": [
    {
     "data": {
      "text/plain": [
       "(7613, 5)"
      ]
     },
     "execution_count": 4,
     "metadata": {},
     "output_type": "execute_result"
    }
   ],
   "source": [
    "train_df.shape"
   ]
  },
  {
   "cell_type": "code",
   "execution_count": 5,
   "id": "aeed5704",
   "metadata": {
    "execution": {
     "iopub.execute_input": "2025-08-15T18:12:19.256794Z",
     "iopub.status.busy": "2025-08-15T18:12:19.255708Z",
     "iopub.status.idle": "2025-08-15T18:12:19.265485Z",
     "shell.execute_reply": "2025-08-15T18:12:19.264508Z"
    },
    "papermill": {
     "duration": 0.016239,
     "end_time": "2025-08-15T18:12:19.267069",
     "exception": false,
     "start_time": "2025-08-15T18:12:19.250830",
     "status": "completed"
    },
    "tags": []
   },
   "outputs": [
    {
     "data": {
      "text/plain": [
       "location    2533\n",
       "keyword       61\n",
       "id             0\n",
       "text           0\n",
       "target         0\n",
       "dtype: int64"
      ]
     },
     "execution_count": 5,
     "metadata": {},
     "output_type": "execute_result"
    }
   ],
   "source": [
    "train_df.isnull().sum().sort_values(ascending=False)"
   ]
  },
  {
   "cell_type": "markdown",
   "id": "de491bb1",
   "metadata": {
    "papermill": {
     "duration": 0.003504,
     "end_time": "2025-08-15T18:12:19.274516",
     "exception": false,
     "start_time": "2025-08-15T18:12:19.271012",
     "status": "completed"
    },
    "tags": []
   },
   "source": [
    "### Muchos nulos, por lo que eliminaremos 'location'"
   ]
  },
  {
   "cell_type": "code",
   "execution_count": 6,
   "id": "142562f0",
   "metadata": {
    "execution": {
     "iopub.execute_input": "2025-08-15T18:12:19.284522Z",
     "iopub.status.busy": "2025-08-15T18:12:19.283666Z",
     "iopub.status.idle": "2025-08-15T18:12:19.297408Z",
     "shell.execute_reply": "2025-08-15T18:12:19.296505Z"
    },
    "papermill": {
     "duration": 0.02008,
     "end_time": "2025-08-15T18:12:19.299087",
     "exception": false,
     "start_time": "2025-08-15T18:12:19.279007",
     "status": "completed"
    },
    "tags": []
   },
   "outputs": [],
   "source": [
    "train_df = train_df.drop(columns=['location'])\n",
    "train_df['keyword'] = train_df['keyword'].fillna('None')"
   ]
  },
  {
   "cell_type": "markdown",
   "id": "7397614e",
   "metadata": {
    "papermill": {
     "duration": 0.003699,
     "end_time": "2025-08-15T18:12:19.306674",
     "exception": false,
     "start_time": "2025-08-15T18:12:19.302975",
     "status": "completed"
    },
    "tags": []
   },
   "source": [
    "# Separar características y etiquetas"
   ]
  },
  {
   "cell_type": "code",
   "execution_count": 7,
   "id": "ac52ed3e",
   "metadata": {
    "execution": {
     "iopub.execute_input": "2025-08-15T18:12:19.315789Z",
     "iopub.status.busy": "2025-08-15T18:12:19.315481Z",
     "iopub.status.idle": "2025-08-15T18:12:19.320633Z",
     "shell.execute_reply": "2025-08-15T18:12:19.319653Z"
    },
    "papermill": {
     "duration": 0.011601,
     "end_time": "2025-08-15T18:12:19.322194",
     "exception": false,
     "start_time": "2025-08-15T18:12:19.310593",
     "status": "completed"
    },
    "tags": []
   },
   "outputs": [],
   "source": [
    "texts = train_df['text'].astype('str')\n",
    "labels = train_df['target'].values"
   ]
  },
  {
   "cell_type": "markdown",
   "id": "27c5883a",
   "metadata": {
    "papermill": {
     "duration": 0.003596,
     "end_time": "2025-08-15T18:12:19.329663",
     "exception": false,
     "start_time": "2025-08-15T18:12:19.326067",
     "status": "completed"
    },
    "tags": []
   },
   "source": [
    "# Dividimos en train y test"
   ]
  },
  {
   "cell_type": "code",
   "execution_count": 8,
   "id": "0a301eef",
   "metadata": {
    "execution": {
     "iopub.execute_input": "2025-08-15T18:12:19.338678Z",
     "iopub.status.busy": "2025-08-15T18:12:19.337811Z",
     "iopub.status.idle": "2025-08-15T18:12:19.344220Z",
     "shell.execute_reply": "2025-08-15T18:12:19.343465Z"
    },
    "papermill": {
     "duration": 0.012422,
     "end_time": "2025-08-15T18:12:19.345718",
     "exception": false,
     "start_time": "2025-08-15T18:12:19.333296",
     "status": "completed"
    },
    "tags": []
   },
   "outputs": [],
   "source": [
    "X_train,X_valid,y_train,y_valid = train_test_split(\n",
    "    texts,labels,test_size=0.2,random_state=42\n",
    ")"
   ]
  },
  {
   "cell_type": "markdown",
   "id": "f490b4f4",
   "metadata": {
    "papermill": {
     "duration": 0.003473,
     "end_time": "2025-08-15T18:12:19.353101",
     "exception": false,
     "start_time": "2025-08-15T18:12:19.349628",
     "status": "completed"
    },
    "tags": []
   },
   "source": [
    "# El siguiente paso es vectorizar/tokenizar los textos para que el modelo de Keras pueda procesarlos"
   ]
  },
  {
   "cell_type": "code",
   "execution_count": 9,
   "id": "11dfeb55",
   "metadata": {
    "execution": {
     "iopub.execute_input": "2025-08-15T18:12:19.361497Z",
     "iopub.status.busy": "2025-08-15T18:12:19.361160Z",
     "iopub.status.idle": "2025-08-15T18:12:19.670807Z",
     "shell.execute_reply": "2025-08-15T18:12:19.669443Z"
    },
    "papermill": {
     "duration": 0.315933,
     "end_time": "2025-08-15T18:12:19.672683",
     "exception": false,
     "start_time": "2025-08-15T18:12:19.356750",
     "status": "completed"
    },
    "tags": []
   },
   "outputs": [
    {
     "name": "stderr",
     "output_type": "stream",
     "text": [
      "2025-08-15 18:12:19.366631: E external/local_xla/xla/stream_executor/cuda/cuda_driver.cc:152] failed call to cuInit: INTERNAL: CUDA error: Failed call to cuInit: UNKNOWN ERROR (303)\n"
     ]
    }
   ],
   "source": [
    "# Definimos la longitud máxima del texto\n",
    "max_length = 100\n",
    "\n",
    "# Creamos el vectorizador de texto\n",
    "vectorizer = keras.layers.TextVectorization(\n",
    "    max_tokens=20000,# numero maximo de palabras \n",
    "    output_mode='int',# convierte palabras en enteros\n",
    "    output_sequence_length=max_length\n",
    ")\n",
    "\n",
    "# Adaptamos vectorizador a datos de entrenamiento\n",
    "vectorizer.adapt(X_train)\n",
    "\n",
    "# Vectorizar los textos de test y train\n",
    "X_train_v = vectorizer(X_train)\n",
    "X_valid_v = vectorizer(X_valid)\n",
    "# Extraer la columna de texto\n",
    "X_test = test_df['text'].values\n",
    "\n",
    "# Vectorizar los textos de test\n",
    "X_test_v = vectorizer(X_test)"
   ]
  },
  {
   "cell_type": "markdown",
   "id": "57c0939e",
   "metadata": {
    "papermill": {
     "duration": 0.004151,
     "end_time": "2025-08-15T18:12:19.681125",
     "exception": false,
     "start_time": "2025-08-15T18:12:19.676974",
     "status": "completed"
    },
    "tags": []
   },
   "source": [
    "# Definimos modelo tipo Transformer"
   ]
  },
  {
   "cell_type": "code",
   "execution_count": 10,
   "id": "9c3f1f76",
   "metadata": {
    "execution": {
     "iopub.execute_input": "2025-08-15T18:12:19.691491Z",
     "iopub.status.busy": "2025-08-15T18:12:19.691193Z",
     "iopub.status.idle": "2025-08-15T18:12:19.830099Z",
     "shell.execute_reply": "2025-08-15T18:12:19.829008Z"
    },
    "papermill": {
     "duration": 0.146215,
     "end_time": "2025-08-15T18:12:19.832022",
     "exception": false,
     "start_time": "2025-08-15T18:12:19.685807",
     "status": "completed"
    },
    "tags": []
   },
   "outputs": [
    {
     "data": {
      "text/html": [
       "<pre style=\"white-space:pre;overflow-x:auto;line-height:normal;font-family:Menlo,'DejaVu Sans Mono',consolas,'Courier New',monospace\"><span style=\"font-weight: bold\">Model: \"functional\"</span>\n",
       "</pre>\n"
      ],
      "text/plain": [
       "\u001b[1mModel: \"functional\"\u001b[0m\n"
      ]
     },
     "metadata": {},
     "output_type": "display_data"
    },
    {
     "data": {
      "text/html": [
       "<pre style=\"white-space:pre;overflow-x:auto;line-height:normal;font-family:Menlo,'DejaVu Sans Mono',consolas,'Courier New',monospace\">┏━━━━━━━━━━━━━━━━━━━━━┳━━━━━━━━━━━━━━━━━━━┳━━━━━━━━━━━━┳━━━━━━━━━━━━━━━━━━━┓\n",
       "┃<span style=\"font-weight: bold\"> Layer (type)        </span>┃<span style=\"font-weight: bold\"> Output Shape      </span>┃<span style=\"font-weight: bold\">    Param # </span>┃<span style=\"font-weight: bold\"> Connected to      </span>┃\n",
       "┡━━━━━━━━━━━━━━━━━━━━━╇━━━━━━━━━━━━━━━━━━━╇━━━━━━━━━━━━╇━━━━━━━━━━━━━━━━━━━┩\n",
       "│ input_layer         │ (<span style=\"color: #00d7ff; text-decoration-color: #00d7ff\">None</span>, <span style=\"color: #00d7ff; text-decoration-color: #00d7ff\">None</span>)      │          <span style=\"color: #00af00; text-decoration-color: #00af00\">0</span> │ -                 │\n",
       "│ (<span style=\"color: #0087ff; text-decoration-color: #0087ff\">InputLayer</span>)        │                   │            │                   │\n",
       "├─────────────────────┼───────────────────┼────────────┼───────────────────┤\n",
       "│ embedding           │ (<span style=\"color: #00d7ff; text-decoration-color: #00d7ff\">None</span>, <span style=\"color: #00d7ff; text-decoration-color: #00d7ff\">None</span>, <span style=\"color: #00af00; text-decoration-color: #00af00\">128</span>) │  <span style=\"color: #00af00; text-decoration-color: #00af00\">2,560,000</span> │ input_layer[<span style=\"color: #00af00; text-decoration-color: #00af00\">0</span>][<span style=\"color: #00af00; text-decoration-color: #00af00\">0</span>] │\n",
       "│ (<span style=\"color: #0087ff; text-decoration-color: #0087ff\">Embedding</span>)         │                   │            │                   │\n",
       "├─────────────────────┼───────────────────┼────────────┼───────────────────┤\n",
       "│ multi_head_attenti… │ (<span style=\"color: #00d7ff; text-decoration-color: #00d7ff\">None</span>, <span style=\"color: #00d7ff; text-decoration-color: #00d7ff\">None</span>, <span style=\"color: #00af00; text-decoration-color: #00af00\">128</span>) │    <span style=\"color: #00af00; text-decoration-color: #00af00\">263,808</span> │ embedding[<span style=\"color: #00af00; text-decoration-color: #00af00\">0</span>][<span style=\"color: #00af00; text-decoration-color: #00af00\">0</span>],  │\n",
       "│ (<span style=\"color: #0087ff; text-decoration-color: #0087ff\">MultiHeadAttentio…</span> │                   │            │ embedding[<span style=\"color: #00af00; text-decoration-color: #00af00\">0</span>][<span style=\"color: #00af00; text-decoration-color: #00af00\">0</span>]   │\n",
       "├─────────────────────┼───────────────────┼────────────┼───────────────────┤\n",
       "│ global_average_poo… │ (<span style=\"color: #00d7ff; text-decoration-color: #00d7ff\">None</span>, <span style=\"color: #00af00; text-decoration-color: #00af00\">128</span>)       │          <span style=\"color: #00af00; text-decoration-color: #00af00\">0</span> │ multi_head_atten… │\n",
       "│ (<span style=\"color: #0087ff; text-decoration-color: #0087ff\">GlobalAveragePool…</span> │                   │            │                   │\n",
       "├─────────────────────┼───────────────────┼────────────┼───────────────────┤\n",
       "│ dense (<span style=\"color: #0087ff; text-decoration-color: #0087ff\">Dense</span>)       │ (<span style=\"color: #00d7ff; text-decoration-color: #00d7ff\">None</span>, <span style=\"color: #00af00; text-decoration-color: #00af00\">128</span>)       │     <span style=\"color: #00af00; text-decoration-color: #00af00\">16,512</span> │ global_average_p… │\n",
       "├─────────────────────┼───────────────────┼────────────┼───────────────────┤\n",
       "│ dropout_1 (<span style=\"color: #0087ff; text-decoration-color: #0087ff\">Dropout</span>) │ (<span style=\"color: #00d7ff; text-decoration-color: #00d7ff\">None</span>, <span style=\"color: #00af00; text-decoration-color: #00af00\">128</span>)       │          <span style=\"color: #00af00; text-decoration-color: #00af00\">0</span> │ dense[<span style=\"color: #00af00; text-decoration-color: #00af00\">0</span>][<span style=\"color: #00af00; text-decoration-color: #00af00\">0</span>]       │\n",
       "├─────────────────────┼───────────────────┼────────────┼───────────────────┤\n",
       "│ dense_1 (<span style=\"color: #0087ff; text-decoration-color: #0087ff\">Dense</span>)     │ (<span style=\"color: #00d7ff; text-decoration-color: #00d7ff\">None</span>, <span style=\"color: #00af00; text-decoration-color: #00af00\">2</span>)         │        <span style=\"color: #00af00; text-decoration-color: #00af00\">258</span> │ dropout_1[<span style=\"color: #00af00; text-decoration-color: #00af00\">0</span>][<span style=\"color: #00af00; text-decoration-color: #00af00\">0</span>]   │\n",
       "└─────────────────────┴───────────────────┴────────────┴───────────────────┘\n",
       "</pre>\n"
      ],
      "text/plain": [
       "┏━━━━━━━━━━━━━━━━━━━━━┳━━━━━━━━━━━━━━━━━━━┳━━━━━━━━━━━━┳━━━━━━━━━━━━━━━━━━━┓\n",
       "┃\u001b[1m \u001b[0m\u001b[1mLayer (type)       \u001b[0m\u001b[1m \u001b[0m┃\u001b[1m \u001b[0m\u001b[1mOutput Shape     \u001b[0m\u001b[1m \u001b[0m┃\u001b[1m \u001b[0m\u001b[1m   Param #\u001b[0m\u001b[1m \u001b[0m┃\u001b[1m \u001b[0m\u001b[1mConnected to     \u001b[0m\u001b[1m \u001b[0m┃\n",
       "┡━━━━━━━━━━━━━━━━━━━━━╇━━━━━━━━━━━━━━━━━━━╇━━━━━━━━━━━━╇━━━━━━━━━━━━━━━━━━━┩\n",
       "│ input_layer         │ (\u001b[38;5;45mNone\u001b[0m, \u001b[38;5;45mNone\u001b[0m)      │          \u001b[38;5;34m0\u001b[0m │ -                 │\n",
       "│ (\u001b[38;5;33mInputLayer\u001b[0m)        │                   │            │                   │\n",
       "├─────────────────────┼───────────────────┼────────────┼───────────────────┤\n",
       "│ embedding           │ (\u001b[38;5;45mNone\u001b[0m, \u001b[38;5;45mNone\u001b[0m, \u001b[38;5;34m128\u001b[0m) │  \u001b[38;5;34m2,560,000\u001b[0m │ input_layer[\u001b[38;5;34m0\u001b[0m][\u001b[38;5;34m0\u001b[0m] │\n",
       "│ (\u001b[38;5;33mEmbedding\u001b[0m)         │                   │            │                   │\n",
       "├─────────────────────┼───────────────────┼────────────┼───────────────────┤\n",
       "│ multi_head_attenti… │ (\u001b[38;5;45mNone\u001b[0m, \u001b[38;5;45mNone\u001b[0m, \u001b[38;5;34m128\u001b[0m) │    \u001b[38;5;34m263,808\u001b[0m │ embedding[\u001b[38;5;34m0\u001b[0m][\u001b[38;5;34m0\u001b[0m],  │\n",
       "│ (\u001b[38;5;33mMultiHeadAttentio…\u001b[0m │                   │            │ embedding[\u001b[38;5;34m0\u001b[0m][\u001b[38;5;34m0\u001b[0m]   │\n",
       "├─────────────────────┼───────────────────┼────────────┼───────────────────┤\n",
       "│ global_average_poo… │ (\u001b[38;5;45mNone\u001b[0m, \u001b[38;5;34m128\u001b[0m)       │          \u001b[38;5;34m0\u001b[0m │ multi_head_atten… │\n",
       "│ (\u001b[38;5;33mGlobalAveragePool…\u001b[0m │                   │            │                   │\n",
       "├─────────────────────┼───────────────────┼────────────┼───────────────────┤\n",
       "│ dense (\u001b[38;5;33mDense\u001b[0m)       │ (\u001b[38;5;45mNone\u001b[0m, \u001b[38;5;34m128\u001b[0m)       │     \u001b[38;5;34m16,512\u001b[0m │ global_average_p… │\n",
       "├─────────────────────┼───────────────────┼────────────┼───────────────────┤\n",
       "│ dropout_1 (\u001b[38;5;33mDropout\u001b[0m) │ (\u001b[38;5;45mNone\u001b[0m, \u001b[38;5;34m128\u001b[0m)       │          \u001b[38;5;34m0\u001b[0m │ dense[\u001b[38;5;34m0\u001b[0m][\u001b[38;5;34m0\u001b[0m]       │\n",
       "├─────────────────────┼───────────────────┼────────────┼───────────────────┤\n",
       "│ dense_1 (\u001b[38;5;33mDense\u001b[0m)     │ (\u001b[38;5;45mNone\u001b[0m, \u001b[38;5;34m2\u001b[0m)         │        \u001b[38;5;34m258\u001b[0m │ dropout_1[\u001b[38;5;34m0\u001b[0m][\u001b[38;5;34m0\u001b[0m]   │\n",
       "└─────────────────────┴───────────────────┴────────────┴───────────────────┘\n"
      ]
     },
     "metadata": {},
     "output_type": "display_data"
    },
    {
     "data": {
      "text/html": [
       "<pre style=\"white-space:pre;overflow-x:auto;line-height:normal;font-family:Menlo,'DejaVu Sans Mono',consolas,'Courier New',monospace\"><span style=\"font-weight: bold\"> Total params: </span><span style=\"color: #00af00; text-decoration-color: #00af00\">2,840,578</span> (10.84 MB)\n",
       "</pre>\n"
      ],
      "text/plain": [
       "\u001b[1m Total params: \u001b[0m\u001b[38;5;34m2,840,578\u001b[0m (10.84 MB)\n"
      ]
     },
     "metadata": {},
     "output_type": "display_data"
    },
    {
     "data": {
      "text/html": [
       "<pre style=\"white-space:pre;overflow-x:auto;line-height:normal;font-family:Menlo,'DejaVu Sans Mono',consolas,'Courier New',monospace\"><span style=\"font-weight: bold\"> Trainable params: </span><span style=\"color: #00af00; text-decoration-color: #00af00\">2,840,578</span> (10.84 MB)\n",
       "</pre>\n"
      ],
      "text/plain": [
       "\u001b[1m Trainable params: \u001b[0m\u001b[38;5;34m2,840,578\u001b[0m (10.84 MB)\n"
      ]
     },
     "metadata": {},
     "output_type": "display_data"
    },
    {
     "data": {
      "text/html": [
       "<pre style=\"white-space:pre;overflow-x:auto;line-height:normal;font-family:Menlo,'DejaVu Sans Mono',consolas,'Courier New',monospace\"><span style=\"font-weight: bold\"> Non-trainable params: </span><span style=\"color: #00af00; text-decoration-color: #00af00\">0</span> (0.00 B)\n",
       "</pre>\n"
      ],
      "text/plain": [
       "\u001b[1m Non-trainable params: \u001b[0m\u001b[38;5;34m0\u001b[0m (0.00 B)\n"
      ]
     },
     "metadata": {},
     "output_type": "display_data"
    }
   ],
   "source": [
    "# Parametros de nuestro modelo\n",
    "vocab_size=20000 # igual que max_tokens\n",
    "embedding_dim = 128\n",
    "num_heads = 4\n",
    "ff_dim = 128\n",
    "num_classes = 2 # para tener target 0/1\n",
    "\n",
    "# Capa de entrada\n",
    "inputs = keras.Input(shape=(None,), dtype=\"int32\") # shape=(None,) significa que la longitud de la secuencia puede variar.\n",
    "\n",
    "# Capa de embedding\n",
    "x = keras.layers.Embedding(input_dim=vocab_size, output_dim=embedding_dim)(inputs)\n",
    " # Convierte cada entero (token) en un vector de dimensión embedding_dim\n",
    "\n",
    "# Capa Transformer\n",
    "x = keras.layers.MultiHeadAttention(num_heads=num_heads,key_dim=embedding_dim)(x, x)\n",
    "\n",
    "# Cada “cabeza” de atención aprende a fijarse en partes distintas de la secuencia.\n",
    "# x, x indica que estamos comparando la secuencia consigo misma (self-attention).\n",
    "# Ayuda al modelo a captar relaciones entre palabras sin importar su posición\n",
    "\n",
    "x = keras.layers.GlobalAveragePooling1D()(x)\n",
    "# Reduce toda la secuencia de vectores a un solo vector promedio.\n",
    "# Sirve para resumir toda la información de la frase en un solo vector fijo\n",
    "\n",
    "# Totalmente conectado\n",
    "x = keras.layers.Dense(ff_dim,activation=\"relu\")(x)\n",
    "x = keras.layers.Dropout(0.3)(x)\n",
    "outputs = keras.layers.Dense(num_classes,activation=\"softmax\")(x)\n",
    "\n",
    "# Modelo \n",
    "model = keras.Model(inputs=inputs,outputs=outputs)\n",
    "# Genera probabilidades para cada clase (en tu caso 0 o 1).\n",
    "# softmax asegura que las salidas sumen 1 y sean interpretables como probabilidades.\n",
    "\n",
    "# Compilacion\n",
    "model.compile(\n",
    "    optimizer=\"adam\",\n",
    "    loss= \"sparse_categorical_crossentropy\",\n",
    "    metrics=[\"accuracy\"]\n",
    "    \n",
    ")\n",
    "\n",
    "model.summary()"
   ]
  },
  {
   "cell_type": "markdown",
   "id": "61fb005e",
   "metadata": {
    "papermill": {
     "duration": 0.00407,
     "end_time": "2025-08-15T18:12:19.840593",
     "exception": false,
     "start_time": "2025-08-15T18:12:19.836523",
     "status": "completed"
    },
    "tags": []
   },
   "source": [
    "# Entrenamiento, evaluacion y prediccion"
   ]
  },
  {
   "cell_type": "code",
   "execution_count": 11,
   "id": "738840a6",
   "metadata": {
    "execution": {
     "iopub.execute_input": "2025-08-15T18:12:19.850457Z",
     "iopub.status.busy": "2025-08-15T18:12:19.850169Z",
     "iopub.status.idle": "2025-08-15T18:15:02.865738Z",
     "shell.execute_reply": "2025-08-15T18:15:02.864798Z"
    },
    "papermill": {
     "duration": 163.023239,
     "end_time": "2025-08-15T18:15:02.868212",
     "exception": false,
     "start_time": "2025-08-15T18:12:19.844973",
     "status": "completed"
    },
    "tags": []
   },
   "outputs": [
    {
     "name": "stdout",
     "output_type": "stream",
     "text": [
      "Epoch 1/5\n",
      "\u001b[1m191/191\u001b[0m \u001b[32m━━━━━━━━━━━━━━━━━━━━\u001b[0m\u001b[37m\u001b[0m \u001b[1m37s\u001b[0m 173ms/step - accuracy: 0.5625 - loss: 0.6869 - val_accuracy: 0.5739 - val_loss: 0.6864\n",
      "Epoch 2/5\n",
      "\u001b[1m191/191\u001b[0m \u001b[32m━━━━━━━━━━━━━━━━━━━━\u001b[0m\u001b[37m\u001b[0m \u001b[1m32s\u001b[0m 168ms/step - accuracy: 0.6141 - loss: 0.6417 - val_accuracy: 0.8011 - val_loss: 0.4864\n",
      "Epoch 3/5\n",
      "\u001b[1m191/191\u001b[0m \u001b[32m━━━━━━━━━━━━━━━━━━━━\u001b[0m\u001b[37m\u001b[0m \u001b[1m31s\u001b[0m 164ms/step - accuracy: 0.8638 - loss: 0.3395 - val_accuracy: 0.7781 - val_loss: 0.6159\n",
      "Epoch 4/5\n",
      "\u001b[1m191/191\u001b[0m \u001b[32m━━━━━━━━━━━━━━━━━━━━\u001b[0m\u001b[37m\u001b[0m \u001b[1m31s\u001b[0m 163ms/step - accuracy: 0.9340 - loss: 0.1898 - val_accuracy: 0.7787 - val_loss: 0.7795\n",
      "Epoch 5/5\n",
      "\u001b[1m191/191\u001b[0m \u001b[32m━━━━━━━━━━━━━━━━━━━━\u001b[0m\u001b[37m\u001b[0m \u001b[1m32s\u001b[0m 165ms/step - accuracy: 0.9696 - loss: 0.0792 - val_accuracy: 0.7708 - val_loss: 0.7762\n"
     ]
    }
   ],
   "source": [
    "from tensorflow.keras.callbacks import EarlyStopping\n",
    "\n",
    "# Definimos early stopping\n",
    "early_stop = EarlyStopping(\n",
    "    monitor='val_loss',     # observa la pérdida de validación\n",
    "    patience=3,             # espera 3 épocas antes de detener\n",
    "    restore_best_weights=True  # devuelve los pesos del mejor modelo\n",
    ")\n",
    "\n",
    "# Entrenamiento\n",
    "history = model.fit(\n",
    "    X_train_v, y_train,\n",
    "    validation_data=(X_valid_v, y_valid),\n",
    "    batch_size=32,\n",
    "    epochs=5,\n",
    "    callbacks=[early_stop]  \n",
    ")\n"
   ]
  },
  {
   "cell_type": "code",
   "execution_count": 12,
   "id": "98c2294f",
   "metadata": {
    "execution": {
     "iopub.execute_input": "2025-08-15T18:15:03.033640Z",
     "iopub.status.busy": "2025-08-15T18:15:03.033327Z",
     "iopub.status.idle": "2025-08-15T18:15:06.798568Z",
     "shell.execute_reply": "2025-08-15T18:15:06.796383Z"
    },
    "papermill": {
     "duration": 3.816599,
     "end_time": "2025-08-15T18:15:06.800320",
     "exception": false,
     "start_time": "2025-08-15T18:15:02.983721",
     "status": "completed"
    },
    "tags": []
   },
   "outputs": [
    {
     "data": {
      "image/png": "[encoded data removed]",
      "text/plain": [
       "<Figure size 1200x500 with 2 Axes>"
      ]
     },
     "metadata": {},
     "output_type": "display_data"
    },
    {
     "name": "stdout",
     "output_type": "stream",
     "text": [
      "\u001b[1m48/48\u001b[0m \u001b[32m━━━━━━━━━━━━━━━━━━━━\u001b[0m\u001b[37m\u001b[0m \u001b[1m3s\u001b[0m 55ms/step\n",
      "Classification Report:\n",
      "\n",
      "              precision    recall  f1-score   support\n",
      "\n",
      "           0       0.78      0.92      0.84       874\n",
      "           1       0.85      0.64      0.73       649\n",
      "\n",
      "    accuracy                           0.80      1523\n",
      "   macro avg       0.82      0.78      0.79      1523\n",
      "weighted avg       0.81      0.80      0.80      1523\n",
      "\n",
      "Confusion Matrix:\n",
      "\n",
      "[[803  71]\n",
      " [232 417]]\n"
     ]
    }
   ],
   "source": [
    "import matplotlib.pyplot as plt\n",
    "from sklearn.metrics import classification_report, confusion_matrix\n",
    "import seaborn as sns\n",
    "import numpy as np\n",
    "\n",
    "#  Graficar pérdida y precisión\n",
    "plt.figure(figsize=(12,5))\n",
    "\n",
    "# Pérdida\n",
    "plt.subplot(1,2,1)\n",
    "plt.plot(history.history['loss'], label='Train Loss')\n",
    "plt.plot(history.history['val_loss'], label='Validation Loss')\n",
    "plt.xlabel('Epochs')\n",
    "plt.ylabel('Loss')\n",
    "plt.title('Train vs Validation Loss')\n",
    "plt.legend()\n",
    "\n",
    "# Precisión\n",
    "plt.subplot(1,2,2)\n",
    "plt.plot(history.history['accuracy'], label='Train Accuracy')\n",
    "plt.plot(history.history['val_accuracy'], label='Validation Accuracy')\n",
    "plt.xlabel('Epochs')\n",
    "plt.ylabel('Accuracy')\n",
    "plt.title('Train vs Validation Accuracy')\n",
    "plt.legend()\n",
    "\n",
    "plt.show()\n",
    "\n",
    "#  Predicciones sobre el conjunto de validación\n",
    "y_pred = model.predict(X_valid_v)\n",
    "# Si tus salidas son probabilidades con softmax:\n",
    "y_pred_classes = np.argmax(y_pred, axis=1)  # devuelve 0 o 1\n",
    "\n",
    "from sklearn.metrics import classification_report, confusion_matrix\n",
    "\n",
    "print(\"Classification Report:\\n\")\n",
    "print(classification_report(y_valid, y_pred_classes))\n",
    "\n",
    "print(\"Confusion Matrix:\\n\")\n",
    "print(confusion_matrix(y_valid, y_pred_classes))\n",
    "\n"
   ]
  },
  {
   "cell_type": "markdown",
   "id": "c681d30e",
   "metadata": {
    "papermill": {
     "duration": 0.055076,
     "end_time": "2025-08-15T18:15:06.907997",
     "exception": false,
     "start_time": "2025-08-15T18:15:06.852921",
     "status": "completed"
    },
    "tags": []
   },
   "source": [
    "# Terminamos"
   ]
  },
  {
   "cell_type": "code",
   "execution_count": 13,
   "id": "2528643a",
   "metadata": {
    "execution": {
     "iopub.execute_input": "2025-08-15T18:15:07.014183Z",
     "iopub.status.busy": "2025-08-15T18:15:07.012772Z",
     "iopub.status.idle": "2025-08-15T18:15:12.609390Z",
     "shell.execute_reply": "2025-08-15T18:15:12.608441Z"
    },
    "papermill": {
     "duration": 5.649169,
     "end_time": "2025-08-15T18:15:12.611003",
     "exception": false,
     "start_time": "2025-08-15T18:15:06.961834",
     "status": "completed"
    },
    "tags": []
   },
   "outputs": [
    {
     "name": "stdout",
     "output_type": "stream",
     "text": [
      "\u001b[1m102/102\u001b[0m \u001b[32m━━━━━━━━━━━━━━━━━━━━\u001b[0m\u001b[37m\u001b[0m \u001b[1m5s\u001b[0m 53ms/step\n",
      "CSV listo para subir a Kaggle!\n"
     ]
    }
   ],
   "source": [
    "# Asegúrate de vectorizar también los textos de test\n",
    "X_test_v = vectorizer(X_test)  # X_test es tu dataframe de test['text']\n",
    "\n",
    "# Predecir probabilidades para cada clase\n",
    "y_test_pred_probs = model.predict(X_test_v)\n",
    "\n",
    "# Elegir la clase con mayor probabilidad\n",
    "y_test_pred_classes = y_test_pred_probs.argmax(axis=1)\n",
    "\n",
    "# Crear DataFrame para submission\n",
    "submission = pd.DataFrame({\n",
    "    \"id\": test_df[\"id\"],  # si tu CSV de test tiene columna id\n",
    "    \"target\": y_test_pred_classes\n",
    "})\n",
    "\n",
    "# Guardar CSV\n",
    "submission.to_csv(\"submission.csv\", index=False)\n",
    "print(\"CSV listo para subir a Kaggle!\")\n"
   ]
  }
 ],
 "metadata": {
  "kaggle": {
   "accelerator": "none",
   "dataSources": [
    {
     "databundleVersionId": 869809,
     "sourceId": 17777,
     "sourceType": "competition"
    }
   ],
   "dockerImageVersionId": 31089,
   "isGpuEnabled": false,
   "isInternetEnabled": true,
   "language": "python",
   "sourceType": "notebook"
  },
  "kernelspec": {
   "display_name": "Python 3",
   "language": "python",
   "name": "python3"
  },
  "language_info": {
   "codemirror_mode": {
    "name": "ipython",
    "version": 3
   },
   "file_extension": ".py",
   "mimetype": "text/x-python",
   "name": "python",
   "nbconvert_exporter": "python",
   "pygments_lexer": "ipython3",
   "version": "3.11.13"
  },
  "papermill": {
   "default_parameters": {},
   "duration": 203.294377,
   "end_time": "2025-08-15T18:15:15.855938",
   "environment_variables": {},
   "exception": null,
   "input_path": "__notebook__.ipynb",
   "output_path": "__notebook__.ipynb",
   "parameters": {},
   "start_time": "2025-08-15T18:11:52.561561",
   "version": "2.6.0"
  }
 },
 "nbformat": 4,
 "nbformat_minor": 5
}
