{
 "cells": [
  {
   "cell_type": "markdown",
   "id": "48af5dd5",
   "metadata": {
    "papermill": {
     "duration": 0.003684,
     "end_time": "2025-08-15T11:13:07.386540",
     "exception": false,
     "start_time": "2025-08-15T11:13:07.382856",
     "status": "completed"
    },
    "tags": []
   },
   "source": [
    "# importamos librerias"
   ]
  },
  {
   "cell_type": "code",
   "execution_count": 1,
   "id": "abfdc43f",
   "metadata": {
    "execution": {
     "iopub.execute_input": "2025-08-15T11:13:07.393913Z",
     "iopub.status.busy": "2025-08-15T11:13:07.393551Z",
     "iopub.status.idle": "2025-08-15T11:13:11.666754Z",
     "shell.execute_reply": "2025-08-15T11:13:11.665793Z"
    },
    "papermill": {
     "duration": 4.278742,
     "end_time": "2025-08-15T11:13:11.668230",
     "exception": false,
     "start_time": "2025-08-15T11:13:07.389488",
     "status": "completed"
    },
    "tags": []
   },
   "outputs": [],
   "source": [
    "import numpy as np\n",
    "import pandas as pd\n",
    "import matplotlib as plt\n",
    "from sklearn.ensemble import RandomForestClassifier\n",
    "from sklearn.model_selection import cross_val_score as cv\n",
    "\n",
    "\n"
   ]
  },
  {
   "cell_type": "markdown",
   "id": "fed73290",
   "metadata": {
    "papermill": {
     "duration": 0.002528,
     "end_time": "2025-08-15T11:13:11.674111",
     "exception": false,
     "start_time": "2025-08-15T11:13:11.671583",
     "status": "completed"
    },
    "tags": []
   },
   "source": [
    "# leemos datos"
   ]
  },
  {
   "cell_type": "code",
   "execution_count": 2,
   "id": "6152e156",
   "metadata": {
    "_cell_guid": "b1076dfc-b9ad-4769-8c92-a6c4dae69d19",
    "_uuid": "8f2839f25d086af736a60e9eeb907d3b93b6e0e5",
    "execution": {
     "iopub.execute_input": "2025-08-15T11:13:11.680807Z",
     "iopub.status.busy": "2025-08-15T11:13:11.680429Z",
     "iopub.status.idle": "2025-08-15T11:13:11.711238Z",
     "shell.execute_reply": "2025-08-15T11:13:11.710518Z"
    },
    "papermill": {
     "duration": 0.035939,
     "end_time": "2025-08-15T11:13:11.712773",
     "exception": false,
     "start_time": "2025-08-15T11:13:11.676834",
     "status": "completed"
    },
    "tags": []
   },
   "outputs": [],
   "source": [
    "\n",
    "train_data = pd.read_csv('/kaggle/input/titanic/train.csv')\n",
    "test_data = pd.read_csv('/kaggle/input/titanic/test.csv')\n"
   ]
  },
  {
   "cell_type": "markdown",
   "id": "1c1593fa",
   "metadata": {
    "papermill": {
     "duration": 0.002667,
     "end_time": "2025-08-15T11:13:11.718531",
     "exception": false,
     "start_time": "2025-08-15T11:13:11.715864",
     "status": "completed"
    },
    "tags": []
   },
   "source": [
    "# vision general"
   ]
  },
  {
   "cell_type": "code",
   "execution_count": 3,
   "id": "175ad811",
   "metadata": {
    "execution": {
     "iopub.execute_input": "2025-08-15T11:13:11.725211Z",
     "iopub.status.busy": "2025-08-15T11:13:11.724932Z",
     "iopub.status.idle": "2025-08-15T11:13:11.757496Z",
     "shell.execute_reply": "2025-08-15T11:13:11.756378Z"
    },
    "papermill": {
     "duration": 0.037573,
     "end_time": "2025-08-15T11:13:11.758790",
     "exception": false,
     "start_time": "2025-08-15T11:13:11.721217",
     "status": "completed"
    },
    "tags": []
   },
   "outputs": [
    {
     "name": "stderr",
     "output_type": "stream",
     "text": [
      "/usr/local/lib/python3.11/dist-packages/pandas/io/formats/format.py:1458: RuntimeWarning: invalid value encountered in greater\n",
      "  has_large_values = (abs_vals > 1e6).any()\n",
      "/usr/local/lib/python3.11/dist-packages/pandas/io/formats/format.py:1459: RuntimeWarning: invalid value encountered in less\n",
      "  has_small_values = ((abs_vals < 10 ** (-self.digits)) & (abs_vals > 0)).any()\n",
      "/usr/local/lib/python3.11/dist-packages/pandas/io/formats/format.py:1459: RuntimeWarning: invalid value encountered in greater\n",
      "  has_small_values = ((abs_vals < 10 ** (-self.digits)) & (abs_vals > 0)).any()\n"
     ]
    },
    {
     "data": {
      "text/html": [
       "<div>\n",
       "<style scoped>\n",
       "    .dataframe tbody tr th:only-of-type {\n",
       "        vertical-align: middle;\n",
       "    }\n",
       "\n",
       "    .dataframe tbody tr th {\n",
       "        vertical-align: top;\n",
       "    }\n",
       "\n",
       "    .dataframe thead th {\n",
       "        text-align: right;\n",
       "    }\n",
       "</style>\n",
       "<table border=\"1\" class=\"dataframe\">\n",
       "  <thead>\n",
       "    <tr style=\"text-align: right;\">\n",
       "      <th></th>\n",
       "      <th>PassengerId</th>\n",
       "      <th>Survived</th>\n",
       "      <th>Pclass</th>\n",
       "      <th>Name</th>\n",
       "      <th>Sex</th>\n",
       "      <th>Age</th>\n",
       "      <th>SibSp</th>\n",
       "      <th>Parch</th>\n",
       "      <th>Ticket</th>\n",
       "      <th>Fare</th>\n",
       "      <th>Cabin</th>\n",
       "      <th>Embarked</th>\n",
       "    </tr>\n",
       "  </thead>\n",
       "  <tbody>\n",
       "    <tr>\n",
       "      <th>241</th>\n",
       "      <td>242</td>\n",
       "      <td>1</td>\n",
       "      <td>3</td>\n",
       "      <td>Murphy, Miss. Katherine \"Kate\"</td>\n",
       "      <td>female</td>\n",
       "      <td>NaN</td>\n",
       "      <td>1</td>\n",
       "      <td>0</td>\n",
       "      <td>367230</td>\n",
       "      <td>15.50</td>\n",
       "      <td>NaN</td>\n",
       "      <td>Q</td>\n",
       "    </tr>\n",
       "    <tr>\n",
       "      <th>191</th>\n",
       "      <td>192</td>\n",
       "      <td>0</td>\n",
       "      <td>2</td>\n",
       "      <td>Carbines, Mr. William</td>\n",
       "      <td>male</td>\n",
       "      <td>19.00</td>\n",
       "      <td>0</td>\n",
       "      <td>0</td>\n",
       "      <td>28424</td>\n",
       "      <td>13.00</td>\n",
       "      <td>NaN</td>\n",
       "      <td>S</td>\n",
       "    </tr>\n",
       "    <tr>\n",
       "      <th>831</th>\n",
       "      <td>832</td>\n",
       "      <td>1</td>\n",
       "      <td>2</td>\n",
       "      <td>Richards, Master. George Sibley</td>\n",
       "      <td>male</td>\n",
       "      <td>0.83</td>\n",
       "      <td>1</td>\n",
       "      <td>1</td>\n",
       "      <td>29106</td>\n",
       "      <td>18.75</td>\n",
       "      <td>NaN</td>\n",
       "      <td>S</td>\n",
       "    </tr>\n",
       "    <tr>\n",
       "      <th>365</th>\n",
       "      <td>366</td>\n",
       "      <td>0</td>\n",
       "      <td>3</td>\n",
       "      <td>Adahl, Mr. Mauritz Nils Martin</td>\n",
       "      <td>male</td>\n",
       "      <td>30.00</td>\n",
       "      <td>0</td>\n",
       "      <td>0</td>\n",
       "      <td>C 7076</td>\n",
       "      <td>7.25</td>\n",
       "      <td>NaN</td>\n",
       "      <td>S</td>\n",
       "    </tr>\n",
       "  </tbody>\n",
       "</table>\n",
       "</div>"
      ],
      "text/plain": [
       "     PassengerId  Survived  Pclass                             Name     Sex  \\\n",
       "241          242         1       3   Murphy, Miss. Katherine \"Kate\"  female   \n",
       "191          192         0       2            Carbines, Mr. William    male   \n",
       "831          832         1       2  Richards, Master. George Sibley    male   \n",
       "365          366         0       3   Adahl, Mr. Mauritz Nils Martin    male   \n",
       "\n",
       "       Age  SibSp  Parch  Ticket   Fare Cabin Embarked  \n",
       "241    NaN      1      0  367230  15.50   NaN        Q  \n",
       "191  19.00      0      0   28424  13.00   NaN        S  \n",
       "831   0.83      1      1   29106  18.75   NaN        S  \n",
       "365  30.00      0      0  C 7076   7.25   NaN        S  "
      ]
     },
     "execution_count": 3,
     "metadata": {},
     "output_type": "execute_result"
    }
   ],
   "source": [
    "train_data.sample(4)"
   ]
  },
  {
   "cell_type": "code",
   "execution_count": 4,
   "id": "d80c0232",
   "metadata": {
    "execution": {
     "iopub.execute_input": "2025-08-15T11:13:11.766604Z",
     "iopub.status.busy": "2025-08-15T11:13:11.766180Z",
     "iopub.status.idle": "2025-08-15T11:13:11.772559Z",
     "shell.execute_reply": "2025-08-15T11:13:11.771488Z"
    },
    "papermill": {
     "duration": 0.011879,
     "end_time": "2025-08-15T11:13:11.773887",
     "exception": false,
     "start_time": "2025-08-15T11:13:11.762008",
     "status": "completed"
    },
    "tags": []
   },
   "outputs": [
    {
     "data": {
      "text/plain": [
       "(891, 12)"
      ]
     },
     "execution_count": 4,
     "metadata": {},
     "output_type": "execute_result"
    }
   ],
   "source": [
    "train_data.shape"
   ]
  },
  {
   "cell_type": "code",
   "execution_count": 5,
   "id": "79e09cf7",
   "metadata": {
    "execution": {
     "iopub.execute_input": "2025-08-15T11:13:11.782727Z",
     "iopub.status.busy": "2025-08-15T11:13:11.782527Z",
     "iopub.status.idle": "2025-08-15T11:13:11.809967Z",
     "shell.execute_reply": "2025-08-15T11:13:11.808766Z"
    },
    "papermill": {
     "duration": 0.032465,
     "end_time": "2025-08-15T11:13:11.811137",
     "exception": false,
     "start_time": "2025-08-15T11:13:11.778672",
     "status": "completed"
    },
    "tags": []
   },
   "outputs": [
    {
     "name": "stdout",
     "output_type": "stream",
     "text": [
      "<class 'pandas.core.frame.DataFrame'>\n",
      "RangeIndex: 891 entries, 0 to 890\n",
      "Data columns (total 12 columns):\n",
      " #   Column       Non-Null Count  Dtype  \n",
      "---  ------       --------------  -----  \n",
      " 0   PassengerId  891 non-null    int64  \n",
      " 1   Survived     891 non-null    int64  \n",
      " 2   Pclass       891 non-null    int64  \n",
      " 3   Name         891 non-null    object \n",
      " 4   Sex          891 non-null    object \n",
      " 5   Age          714 non-null    float64\n",
      " 6   SibSp        891 non-null    int64  \n",
      " 7   Parch        891 non-null    int64  \n",
      " 8   Ticket       891 non-null    object \n",
      " 9   Fare         891 non-null    float64\n",
      " 10  Cabin        204 non-null    object \n",
      " 11  Embarked     889 non-null    object \n",
      "dtypes: float64(2), int64(5), object(5)\n",
      "memory usage: 83.7+ KB\n"
     ]
    }
   ],
   "source": [
    "train_data.info()"
   ]
  },
  {
   "cell_type": "code",
   "execution_count": 6,
   "id": "82819735",
   "metadata": {
    "execution": {
     "iopub.execute_input": "2025-08-15T11:13:11.821241Z",
     "iopub.status.busy": "2025-08-15T11:13:11.820932Z",
     "iopub.status.idle": "2025-08-15T11:13:11.829789Z",
     "shell.execute_reply": "2025-08-15T11:13:11.828629Z"
    },
    "papermill": {
     "duration": 0.015492,
     "end_time": "2025-08-15T11:13:11.831543",
     "exception": false,
     "start_time": "2025-08-15T11:13:11.816051",
     "status": "completed"
    },
    "tags": []
   },
   "outputs": [
    {
     "data": {
      "text/plain": [
       "0"
      ]
     },
     "execution_count": 6,
     "metadata": {},
     "output_type": "execute_result"
    }
   ],
   "source": [
    "train_data.duplicated().sum()"
   ]
  },
  {
   "cell_type": "code",
   "execution_count": 7,
   "id": "108b2e01",
   "metadata": {
    "execution": {
     "iopub.execute_input": "2025-08-15T11:13:11.840443Z",
     "iopub.status.busy": "2025-08-15T11:13:11.840032Z",
     "iopub.status.idle": "2025-08-15T11:13:11.850072Z",
     "shell.execute_reply": "2025-08-15T11:13:11.848558Z"
    },
    "papermill": {
     "duration": 0.016484,
     "end_time": "2025-08-15T11:13:11.851866",
     "exception": false,
     "start_time": "2025-08-15T11:13:11.835382",
     "status": "completed"
    },
    "tags": []
   },
   "outputs": [
    {
     "data": {
      "text/plain": [
       "Cabin          687\n",
       "Age            177\n",
       "Embarked         2\n",
       "PassengerId      0\n",
       "Survived         0\n",
       "Pclass           0\n",
       "Name             0\n",
       "Sex              0\n",
       "SibSp            0\n",
       "Parch            0\n",
       "Ticket           0\n",
       "Fare             0\n",
       "dtype: int64"
      ]
     },
     "execution_count": 7,
     "metadata": {},
     "output_type": "execute_result"
    }
   ],
   "source": [
    "train_data.isnull().sum().sort_values(ascending=False)"
   ]
  },
  {
   "cell_type": "markdown",
   "id": "5d78e457",
   "metadata": {
    "papermill": {
     "duration": 0.003015,
     "end_time": "2025-08-15T11:13:11.858678",
     "exception": false,
     "start_time": "2025-08-15T11:13:11.855663",
     "status": "completed"
    },
    "tags": []
   },
   "source": [
    "## cabin tiene demasiados por lo que la eliminaremos muy seguramente"
   ]
  },
  {
   "cell_type": "code",
   "execution_count": 8,
   "id": "4e11ca82",
   "metadata": {
    "execution": {
     "iopub.execute_input": "2025-08-15T11:13:11.866937Z",
     "iopub.status.busy": "2025-08-15T11:13:11.866537Z",
     "iopub.status.idle": "2025-08-15T11:13:11.879735Z",
     "shell.execute_reply": "2025-08-15T11:13:11.878211Z"
    },
    "papermill": {
     "duration": 0.020151,
     "end_time": "2025-08-15T11:13:11.882008",
     "exception": false,
     "start_time": "2025-08-15T11:13:11.861857",
     "status": "completed"
    },
    "tags": []
   },
   "outputs": [
    {
     "data": {
      "text/plain": [
       "PassengerId    891\n",
       "Survived         2\n",
       "Pclass           3\n",
       "Name           891\n",
       "Sex              2\n",
       "Age             88\n",
       "SibSp            7\n",
       "Parch            7\n",
       "Ticket         681\n",
       "Fare           248\n",
       "Cabin          147\n",
       "Embarked         3\n",
       "dtype: int64"
      ]
     },
     "execution_count": 8,
     "metadata": {},
     "output_type": "execute_result"
    }
   ],
   "source": [
    "train_data.nunique()"
   ]
  },
  {
   "cell_type": "markdown",
   "id": "7f3c18c5",
   "metadata": {
    "papermill": {
     "duration": 0.003084,
     "end_time": "2025-08-15T11:13:11.889053",
     "exception": false,
     "start_time": "2025-08-15T11:13:11.885969",
     "status": "completed"
    },
    "tags": []
   },
   "source": [
    "## PassengerId es lógico ya que son ids y no aportan demasiado a la predicción junto a Name,Ticket y Fare."
   ]
  },
  {
   "cell_type": "code",
   "execution_count": 9,
   "id": "b6a0532b",
   "metadata": {
    "execution": {
     "iopub.execute_input": "2025-08-15T11:13:11.896622Z",
     "iopub.status.busy": "2025-08-15T11:13:11.896225Z",
     "iopub.status.idle": "2025-08-15T11:13:11.906225Z",
     "shell.execute_reply": "2025-08-15T11:13:11.904721Z"
    },
    "papermill": {
     "duration": 0.015742,
     "end_time": "2025-08-15T11:13:11.907890",
     "exception": false,
     "start_time": "2025-08-15T11:13:11.892148",
     "status": "completed"
    },
    "tags": []
   },
   "outputs": [
    {
     "name": "stdout",
     "output_type": "stream",
     "text": [
      "% de mujeres que sobrevivieron: 0.7420382165605095\n",
      "% de hombres que sobrevivieron: 0.18890814558058924\n"
     ]
    }
   ],
   "source": [
    "women = train_data.loc[train_data.Sex == 'female'][\"Survived\"]\n",
    "rate_women = sum(women) / len(women)\n",
    "print(\"% de mujeres que sobrevivieron:\", rate_women)\n",
    "\n",
    "men = train_data.loc[train_data.Sex == 'male'][\"Survived\"]\n",
    "rate_men = sum(men) / len(men)\n",
    "print(\"% de hombres que sobrevivieron:\", rate_men)"
   ]
  },
  {
   "cell_type": "markdown",
   "id": "1ab53f27",
   "metadata": {
    "papermill": {
     "duration": 0.003525,
     "end_time": "2025-08-15T11:13:11.915786",
     "exception": false,
     "start_time": "2025-08-15T11:13:11.912261",
     "status": "completed"
    },
    "tags": []
   },
   "source": [
    "## conclusiones"
   ]
  },
  {
   "cell_type": "code",
   "execution_count": 10,
   "id": "8932b558",
   "metadata": {
    "execution": {
     "iopub.execute_input": "2025-08-15T11:13:11.924483Z",
     "iopub.status.busy": "2025-08-15T11:13:11.924042Z",
     "iopub.status.idle": "2025-08-15T11:13:11.931202Z",
     "shell.execute_reply": "2025-08-15T11:13:11.930371Z"
    },
    "papermill": {
     "duration": 0.014137,
     "end_time": "2025-08-15T11:13:11.933515",
     "exception": false,
     "start_time": "2025-08-15T11:13:11.919378",
     "status": "completed"
    },
    "tags": []
   },
   "outputs": [],
   "source": [
    "train_data = train_data.drop(columns=['Cabin','Fare','Ticket','Name','Age'])\n",
    "test_data = test_data.drop(columns=['Cabin','Fare','Ticket','Name','Age'])\n"
   ]
  },
  {
   "cell_type": "markdown",
   "id": "d440a6e6",
   "metadata": {
    "papermill": {
     "duration": 0.003347,
     "end_time": "2025-08-15T11:13:11.941051",
     "exception": false,
     "start_time": "2025-08-15T11:13:11.937704",
     "status": "completed"
    },
    "tags": []
   },
   "source": [
    "# preparación para modelo"
   ]
  },
  {
   "cell_type": "code",
   "execution_count": 11,
   "id": "93c24f2e",
   "metadata": {
    "execution": {
     "iopub.execute_input": "2025-08-15T11:13:11.949073Z",
     "iopub.status.busy": "2025-08-15T11:13:11.948742Z",
     "iopub.status.idle": "2025-08-15T11:13:11.954707Z",
     "shell.execute_reply": "2025-08-15T11:13:11.953911Z"
    },
    "papermill": {
     "duration": 0.01171,
     "end_time": "2025-08-15T11:13:11.956020",
     "exception": false,
     "start_time": "2025-08-15T11:13:11.944310",
     "status": "completed"
    },
    "tags": []
   },
   "outputs": [],
   "source": [
    "X = train_data.drop(['Survived'],axis=1)\n",
    "y = train_data['Survived']\n",
    "features = ['Pclass','Sex','SibSp','Parch']"
   ]
  },
  {
   "cell_type": "code",
   "execution_count": 12,
   "id": "747aa332",
   "metadata": {
    "execution": {
     "iopub.execute_input": "2025-08-15T11:13:11.965648Z",
     "iopub.status.busy": "2025-08-15T11:13:11.965221Z",
     "iopub.status.idle": "2025-08-15T11:13:11.975216Z",
     "shell.execute_reply": "2025-08-15T11:13:11.974274Z"
    },
    "papermill": {
     "duration": 0.01653,
     "end_time": "2025-08-15T11:13:11.976764",
     "exception": false,
     "start_time": "2025-08-15T11:13:11.960234",
     "status": "completed"
    },
    "tags": []
   },
   "outputs": [
    {
     "data": {
      "text/html": [
       "<div>\n",
       "<style scoped>\n",
       "    .dataframe tbody tr th:only-of-type {\n",
       "        vertical-align: middle;\n",
       "    }\n",
       "\n",
       "    .dataframe tbody tr th {\n",
       "        vertical-align: top;\n",
       "    }\n",
       "\n",
       "    .dataframe thead th {\n",
       "        text-align: right;\n",
       "    }\n",
       "</style>\n",
       "<table border=\"1\" class=\"dataframe\">\n",
       "  <thead>\n",
       "    <tr style=\"text-align: right;\">\n",
       "      <th></th>\n",
       "      <th>PassengerId</th>\n",
       "      <th>Pclass</th>\n",
       "      <th>Sex</th>\n",
       "      <th>SibSp</th>\n",
       "      <th>Parch</th>\n",
       "      <th>Embarked</th>\n",
       "    </tr>\n",
       "  </thead>\n",
       "  <tbody>\n",
       "    <tr>\n",
       "      <th>0</th>\n",
       "      <td>892</td>\n",
       "      <td>3</td>\n",
       "      <td>male</td>\n",
       "      <td>0</td>\n",
       "      <td>0</td>\n",
       "      <td>Q</td>\n",
       "    </tr>\n",
       "    <tr>\n",
       "      <th>1</th>\n",
       "      <td>893</td>\n",
       "      <td>3</td>\n",
       "      <td>female</td>\n",
       "      <td>1</td>\n",
       "      <td>0</td>\n",
       "      <td>S</td>\n",
       "    </tr>\n",
       "    <tr>\n",
       "      <th>2</th>\n",
       "      <td>894</td>\n",
       "      <td>2</td>\n",
       "      <td>male</td>\n",
       "      <td>0</td>\n",
       "      <td>0</td>\n",
       "      <td>Q</td>\n",
       "    </tr>\n",
       "    <tr>\n",
       "      <th>3</th>\n",
       "      <td>895</td>\n",
       "      <td>3</td>\n",
       "      <td>male</td>\n",
       "      <td>0</td>\n",
       "      <td>0</td>\n",
       "      <td>S</td>\n",
       "    </tr>\n",
       "    <tr>\n",
       "      <th>4</th>\n",
       "      <td>896</td>\n",
       "      <td>3</td>\n",
       "      <td>female</td>\n",
       "      <td>1</td>\n",
       "      <td>1</td>\n",
       "      <td>S</td>\n",
       "    </tr>\n",
       "  </tbody>\n",
       "</table>\n",
       "</div>"
      ],
      "text/plain": [
       "   PassengerId  Pclass     Sex  SibSp  Parch Embarked\n",
       "0          892       3    male      0      0        Q\n",
       "1          893       3  female      1      0        S\n",
       "2          894       2    male      0      0        Q\n",
       "3          895       3    male      0      0        S\n",
       "4          896       3  female      1      1        S"
      ]
     },
     "execution_count": 12,
     "metadata": {},
     "output_type": "execute_result"
    }
   ],
   "source": [
    "test_data.head()"
   ]
  },
  {
   "cell_type": "markdown",
   "id": "75fe1ac7",
   "metadata": {
    "papermill": {
     "duration": 0.003412,
     "end_time": "2025-08-15T11:13:11.984461",
     "exception": false,
     "start_time": "2025-08-15T11:13:11.981049",
     "status": "completed"
    },
    "tags": []
   },
   "source": [
    "## pasamos columnas categóricas a numéricas"
   ]
  },
  {
   "cell_type": "code",
   "execution_count": 13,
   "id": "02a218f4",
   "metadata": {
    "execution": {
     "iopub.execute_input": "2025-08-15T11:13:11.993933Z",
     "iopub.status.busy": "2025-08-15T11:13:11.992859Z",
     "iopub.status.idle": "2025-08-15T11:13:12.005981Z",
     "shell.execute_reply": "2025-08-15T11:13:12.004600Z"
    },
    "papermill": {
     "duration": 0.019971,
     "end_time": "2025-08-15T11:13:12.007988",
     "exception": false,
     "start_time": "2025-08-15T11:13:11.988017",
     "status": "completed"
    },
    "tags": []
   },
   "outputs": [],
   "source": [
    "X = pd.get_dummies(train_data[features])\n",
    "X_test = pd.get_dummies(test_data[features])\n"
   ]
  },
  {
   "cell_type": "markdown",
   "id": "a9134fec",
   "metadata": {
    "papermill": {
     "duration": 0.003515,
     "end_time": "2025-08-15T11:13:12.016091",
     "exception": false,
     "start_time": "2025-08-15T11:13:12.012576",
     "status": "completed"
    },
    "tags": []
   },
   "source": [
    "# definimos modelo"
   ]
  },
  {
   "cell_type": "code",
   "execution_count": 14,
   "id": "997c5566",
   "metadata": {
    "execution": {
     "iopub.execute_input": "2025-08-15T11:13:12.025062Z",
     "iopub.status.busy": "2025-08-15T11:13:12.024728Z",
     "iopub.status.idle": "2025-08-15T11:13:21.590945Z",
     "shell.execute_reply": "2025-08-15T11:13:21.589638Z"
    },
    "papermill": {
     "duration": 9.572884,
     "end_time": "2025-08-15T11:13:21.592590",
     "exception": false,
     "start_time": "2025-08-15T11:13:12.019706",
     "status": "completed"
    },
    "tags": []
   },
   "outputs": [
    {
     "name": "stdout",
     "output_type": "stream",
     "text": [
      "Mejores parámetros: {'n_estimators': 100, 'max_depth': 3}\n",
      "Mejor accuracy: 0.8080723118448307\n",
      "CSV de envío generado.\n"
     ]
    }
   ],
   "source": [
    "from sklearn.ensemble import RandomForestClassifier\n",
    "from sklearn.model_selection import cross_val_score\n",
    "import pandas as pd\n",
    "\n",
    "# Parámetros a probar\n",
    "n_estimators = [10, 50, 100, 200]\n",
    "max_depth = [2, 3, 5, 7,10]\n",
    "\n",
    "best_score = 0\n",
    "best_params = {}\n",
    "\n",
    "# Bucle para encontrar los mejores parámetros\n",
    "for n in n_estimators:\n",
    "    for d in max_depth:\n",
    "        model = RandomForestClassifier(n_estimators=n, max_depth=d, random_state=32)\n",
    "        score = cross_val_score(model, X, y, cv=5).mean()\n",
    "        if score > best_score:\n",
    "            best_score = score\n",
    "            best_params = {'n_estimators': n, 'max_depth': d}\n",
    "\n",
    "# Entrenar con los mejores parámetros\n",
    "best_model = RandomForestClassifier(**best_params, random_state=32)\n",
    "best_model.fit(X, y)\n",
    "predictions = best_model.predict(X_test)\n",
    "\n",
    "# Crear CSV de envío\n",
    "output = pd.DataFrame({'PassengerId': test_data.PassengerId, 'Survived': predictions})\n",
    "output.to_csv('submission.csv', index=False)\n",
    "\n",
    "print(\"Mejores parámetros:\", best_params)\n",
    "print(\"Mejor accuracy:\", best_score)\n",
    "print(\"CSV de envío generado.\")\n"
   ]
  }
 ],
 "metadata": {
  "kaggle": {
   "accelerator": "none",
   "dataSources": [
    {
     "databundleVersionId": 26502,
     "sourceId": 3136,
     "sourceType": "competition"
    }
   ],
   "dockerImageVersionId": 31089,
   "isGpuEnabled": false,
   "isInternetEnabled": true,
   "language": "python",
   "sourceType": "notebook"
  },
  "kernelspec": {
   "display_name": "Python 3",
   "language": "python",
   "name": "python3"
  },
  "language_info": {
   "codemirror_mode": {
    "name": "ipython",
    "version": 3
   },
   "file_extension": ".py",
   "mimetype": "text/x-python",
   "name": "python",
   "nbconvert_exporter": "python",
   "pygments_lexer": "ipython3",
   "version": "3.11.13"
  },
  "papermill": {
   "default_parameters": {},
   "duration": 19.798426,
   "end_time": "2025-08-15T11:13:22.519989",
   "environment_variables": {},
   "exception": null,
   "input_path": "__notebook__.ipynb",
   "output_path": "__notebook__.ipynb",
   "parameters": {},
   "start_time": "2025-08-15T11:13:02.721563",
   "version": "2.6.0"
  }
 },
 "nbformat": 4,
 "nbformat_minor": 5
}
